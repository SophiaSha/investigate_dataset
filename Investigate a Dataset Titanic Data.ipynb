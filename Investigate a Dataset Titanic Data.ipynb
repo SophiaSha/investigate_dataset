{
 "cells": [
  {
   "cell_type": "markdown",
   "metadata": {},
   "source": [
    "## Titianic Data Analysis Project\n",
    "\n",
    "### Overview\n",
    "* Question\n",
    "* Loading and Initial Observation\n",
    "* Explore\n",
    "* Draw Conclusions\n"
   ]
  },
  {
   "cell_type": "markdown",
   "metadata": {},
   "source": [
    "<h3 id=\"libAndData\"> 1. Questions </h3>\n",
    "\n",
    "A brief overview of the data is given from The [Kaggle Project Page](https://www.kaggle.com/c/titanic). Some points from this overview:\n",
    "\n",
    "On April 15, 1912, during her maiden voyage, the Titanic sank after colliding with an iceberg, killing 1502 out of 2224 passengers and crew\n",
    "One of the reasons that the shipwreck led to such loss of life was that there were not enough lifeboats for the passengers and crew\n",
    "\n",
    "Although there was some element of luck involved in surviving the sinking, some groups of people were more likely to survive than others, such as women, children, and the upper-class.\n",
    "\n",
    "The main goal will be to answer the question: Who is the most likely to survive?"
   ]
  },
  {
   "cell_type": "markdown",
   "metadata": {},
   "source": [
    "<h3 id=\"libAndData\">2. Libraries and Loading Data</h3>"
   ]
  },
  {
   "cell_type": "code",
   "execution_count": 3,
   "metadata": {
    "collapsed": false
   },
   "outputs": [],
   "source": [
    "import numpy as np\n",
    "import pandas as pd\n",
    "from scipy import stats, integrate\n",
    "import matplotlib.pyplot as plt\n",
    "import statsmodels.api as sm\n",
    "%matplotlib inline\n",
    "# Visual\n",
    "import seaborn as sns\n",
    "sns.set(color_codes=True)\n",
    "# Load data\n",
    "titanic_df = pd.read_csv('titanic-data.csv')"
   ]
  },
  {
   "cell_type": "markdown",
   "metadata": {},
   "source": [
    "<h4 id=\"lib\">2.2 Loading Data</h4>"
   ]
  },
  {
   "cell_type": "code",
   "execution_count": 5,
   "metadata": {
    "collapsed": true
   },
   "outputs": [],
   "source": [
    "pd.options.display.float_format = '{:.0f}'.format"
   ]
  },
  {
   "cell_type": "markdown",
   "metadata": {},
   "source": [
    "<h4 id=\"ColNames\">2.3 Dataset Column Headers</h4>\n",
    "The column names of the data frame are printed out in order to to determine if the dataset was imported fully and so that it is easy to reference the column names."
   ]
  },
  {
   "cell_type": "code",
   "execution_count": 7,
   "metadata": {
    "collapsed": false
   },
   "outputs": [
    {
     "data": {
      "text/html": [
       "<div>\n",
       "<table border=\"1\" class=\"dataframe\">\n",
       "  <thead>\n",
       "    <tr style=\"text-align: right;\">\n",
       "      <th></th>\n",
       "      <th>PassengerId</th>\n",
       "      <th>Survived</th>\n",
       "      <th>Pclass</th>\n",
       "      <th>Name</th>\n",
       "      <th>Sex</th>\n",
       "      <th>Age</th>\n",
       "      <th>SibSp</th>\n",
       "      <th>Parch</th>\n",
       "      <th>Ticket</th>\n",
       "      <th>Fare</th>\n",
       "      <th>Cabin</th>\n",
       "      <th>Embarked</th>\n",
       "    </tr>\n",
       "  </thead>\n",
       "  <tbody>\n",
       "    <tr>\n",
       "      <th>0</th>\n",
       "      <td>1</td>\n",
       "      <td>0</td>\n",
       "      <td>3</td>\n",
       "      <td>Braund, Mr. Owen Harris</td>\n",
       "      <td>male</td>\n",
       "      <td>22</td>\n",
       "      <td>1</td>\n",
       "      <td>0</td>\n",
       "      <td>A/5 21171</td>\n",
       "      <td>7</td>\n",
       "      <td>NaN</td>\n",
       "      <td>S</td>\n",
       "    </tr>\n",
       "    <tr>\n",
       "      <th>1</th>\n",
       "      <td>2</td>\n",
       "      <td>1</td>\n",
       "      <td>1</td>\n",
       "      <td>Cumings, Mrs. John Bradley (Florence Briggs Th...</td>\n",
       "      <td>female</td>\n",
       "      <td>38</td>\n",
       "      <td>1</td>\n",
       "      <td>0</td>\n",
       "      <td>PC 17599</td>\n",
       "      <td>71</td>\n",
       "      <td>C85</td>\n",
       "      <td>C</td>\n",
       "    </tr>\n",
       "    <tr>\n",
       "      <th>2</th>\n",
       "      <td>3</td>\n",
       "      <td>1</td>\n",
       "      <td>3</td>\n",
       "      <td>Heikkinen, Miss. Laina</td>\n",
       "      <td>female</td>\n",
       "      <td>26</td>\n",
       "      <td>0</td>\n",
       "      <td>0</td>\n",
       "      <td>STON/O2. 3101282</td>\n",
       "      <td>8</td>\n",
       "      <td>NaN</td>\n",
       "      <td>S</td>\n",
       "    </tr>\n",
       "    <tr>\n",
       "      <th>3</th>\n",
       "      <td>4</td>\n",
       "      <td>1</td>\n",
       "      <td>1</td>\n",
       "      <td>Futrelle, Mrs. Jacques Heath (Lily May Peel)</td>\n",
       "      <td>female</td>\n",
       "      <td>35</td>\n",
       "      <td>1</td>\n",
       "      <td>0</td>\n",
       "      <td>113803</td>\n",
       "      <td>53</td>\n",
       "      <td>C123</td>\n",
       "      <td>S</td>\n",
       "    </tr>\n",
       "    <tr>\n",
       "      <th>4</th>\n",
       "      <td>5</td>\n",
       "      <td>0</td>\n",
       "      <td>3</td>\n",
       "      <td>Allen, Mr. William Henry</td>\n",
       "      <td>male</td>\n",
       "      <td>35</td>\n",
       "      <td>0</td>\n",
       "      <td>0</td>\n",
       "      <td>373450</td>\n",
       "      <td>8</td>\n",
       "      <td>NaN</td>\n",
       "      <td>S</td>\n",
       "    </tr>\n",
       "  </tbody>\n",
       "</table>\n",
       "</div>"
      ],
      "text/plain": [
       "   PassengerId  Survived  Pclass  \\\n",
       "0            1         0       3   \n",
       "1            2         1       1   \n",
       "2            3         1       3   \n",
       "3            4         1       1   \n",
       "4            5         0       3   \n",
       "\n",
       "                                                Name     Sex  Age  SibSp  \\\n",
       "0                            Braund, Mr. Owen Harris    male   22      1   \n",
       "1  Cumings, Mrs. John Bradley (Florence Briggs Th...  female   38      1   \n",
       "2                             Heikkinen, Miss. Laina  female   26      0   \n",
       "3       Futrelle, Mrs. Jacques Heath (Lily May Peel)  female   35      1   \n",
       "4                           Allen, Mr. William Henry    male   35      0   \n",
       "\n",
       "   Parch            Ticket  Fare Cabin Embarked  \n",
       "0      0         A/5 21171     7   NaN        S  \n",
       "1      0          PC 17599    71   C85        C  \n",
       "2      0  STON/O2. 3101282     8   NaN        S  \n",
       "3      0            113803    53  C123        S  \n",
       "4      0            373450     8   NaN        S  "
      ]
     },
     "execution_count": 7,
     "metadata": {},
     "output_type": "execute_result"
    }
   ],
   "source": [
    "# View Data\n",
    "titanic_df.head()"
   ]
  },
  {
   "cell_type": "code",
   "execution_count": 8,
   "metadata": {
    "collapsed": false
   },
   "outputs": [
    {
     "name": "stdout",
     "output_type": "stream",
     "text": [
      "<class 'pandas.core.frame.DataFrame'>\n",
      "RangeIndex: 891 entries, 0 to 890\n",
      "Data columns (total 12 columns):\n",
      "PassengerId    891 non-null int64\n",
      "Survived       891 non-null int64\n",
      "Pclass         891 non-null int64\n",
      "Name           891 non-null object\n",
      "Sex            891 non-null object\n",
      "Age            714 non-null float64\n",
      "SibSp          891 non-null int64\n",
      "Parch          891 non-null int64\n",
      "Ticket         891 non-null object\n",
      "Fare           891 non-null float64\n",
      "Cabin          204 non-null object\n",
      "Embarked       889 non-null object\n",
      "dtypes: float64(2), int64(5), object(5)\n",
      "memory usage: 83.6+ KB\n"
     ]
    }
   ],
   "source": [
    "titanic_df.info()\n"
   ]
  },
  {
   "cell_type": "code",
   "execution_count": null,
   "metadata": {
    "collapsed": true
   },
   "outputs": [],
   "source": []
  },
  {
   "cell_type": "code",
   "execution_count": 6,
   "metadata": {
    "collapsed": false
   },
   "outputs": [
    {
     "data": {
      "text/plain": [
       "['PassengerId',\n",
       " 'Survived',\n",
       " 'Pclass',\n",
       " 'Name',\n",
       " 'Sex',\n",
       " 'Age',\n",
       " 'SibSp',\n",
       " 'Parch',\n",
       " 'Ticket',\n",
       " 'Fare',\n",
       " 'Cabin',\n",
       " 'Embarked']"
      ]
     },
     "execution_count": 6,
     "metadata": {},
     "output_type": "execute_result"
    }
   ],
   "source": [
    "#get the column names\n",
    "list(titanic_df)"
   ]
  },
  {
   "cell_type": "markdown",
   "metadata": {},
   "source": [
    "<h3 id=\"PrimaryQuestion\">4. Primary Question</h3>\n",
    "The primary question that will be reviewed with this data set is what variables are able to help perdict survival rate. The variables that will be reviewed are those listed in the column names above. While this project isn't necessary going to go into creating a predictive model for survival rates on the titanic, it will provide a general idea of which variables would be integral in setting up this algorithm."
   ]
  },
  {
   "cell_type": "markdown",
   "metadata": {},
   "source": [
    "<h3 id=\"Pre\">5. Preliminary Data Wrangling/Cleaning</h3>\n",
    "Due to this dataset being from Kaggle it is unlikely that the data will be \"dirty\" per say, but it is always a good idea to look through the data to see if there is anything unexpected. This is also a good way to become more familiar with the data, so answering the question will be easier and it will be unlikely that a wrong interpretation of the data will arise by accident. "
   ]
  },
  {
   "cell_type": "markdown",
   "metadata": {},
   "source": [
    "There are a good deal of missing values in the data. Embarked appears to be the simplest to deal with. Observing the entries with missing values leads to some conclusions. It looks like these two passengers roomed in the same cabin with the same ticket and fare. It is safe to assume that they left from the same port.\n",
    "\n"
   ]
  },
  {
   "cell_type": "code",
   "execution_count": 9,
   "metadata": {
    "collapsed": false
   },
   "outputs": [
    {
     "data": {
      "text/html": [
       "<div>\n",
       "<table border=\"1\" class=\"dataframe\">\n",
       "  <thead>\n",
       "    <tr style=\"text-align: right;\">\n",
       "      <th></th>\n",
       "      <th>PassengerId</th>\n",
       "      <th>Survived</th>\n",
       "      <th>Pclass</th>\n",
       "      <th>Name</th>\n",
       "      <th>Sex</th>\n",
       "      <th>Age</th>\n",
       "      <th>SibSp</th>\n",
       "      <th>Parch</th>\n",
       "      <th>Ticket</th>\n",
       "      <th>Fare</th>\n",
       "      <th>Cabin</th>\n",
       "      <th>Embarked</th>\n",
       "    </tr>\n",
       "  </thead>\n",
       "  <tbody>\n",
       "    <tr>\n",
       "      <th>61</th>\n",
       "      <td>62</td>\n",
       "      <td>1</td>\n",
       "      <td>1</td>\n",
       "      <td>Icard, Miss. Amelie</td>\n",
       "      <td>female</td>\n",
       "      <td>38</td>\n",
       "      <td>0</td>\n",
       "      <td>0</td>\n",
       "      <td>113572</td>\n",
       "      <td>80</td>\n",
       "      <td>B28</td>\n",
       "      <td>NaN</td>\n",
       "    </tr>\n",
       "    <tr>\n",
       "      <th>829</th>\n",
       "      <td>830</td>\n",
       "      <td>1</td>\n",
       "      <td>1</td>\n",
       "      <td>Stone, Mrs. George Nelson (Martha Evelyn)</td>\n",
       "      <td>female</td>\n",
       "      <td>62</td>\n",
       "      <td>0</td>\n",
       "      <td>0</td>\n",
       "      <td>113572</td>\n",
       "      <td>80</td>\n",
       "      <td>B28</td>\n",
       "      <td>NaN</td>\n",
       "    </tr>\n",
       "  </tbody>\n",
       "</table>\n",
       "</div>"
      ],
      "text/plain": [
       "     PassengerId  Survived  Pclass                                       Name  \\\n",
       "61            62         1       1                        Icard, Miss. Amelie   \n",
       "829          830         1       1  Stone, Mrs. George Nelson (Martha Evelyn)   \n",
       "\n",
       "        Sex  Age  SibSp  Parch  Ticket  Fare Cabin Embarked  \n",
       "61   female   38      0      0  113572    80   B28      NaN  \n",
       "829  female   62      0      0  113572    80   B28      NaN  "
      ]
     },
     "execution_count": 9,
     "metadata": {},
     "output_type": "execute_result"
    }
   ],
   "source": [
    "titanic_df[titanic_df.Embarked.isnull()]"
   ]
  },
  {
   "cell_type": "code",
   "execution_count": 12,
   "metadata": {
    "collapsed": false
   },
   "outputs": [
    {
     "data": {
      "text/plain": [
       "<matplotlib.text.Text at 0x11600f4e0>"
      ]
     },
     "execution_count": 12,
     "metadata": {},
     "output_type": "execute_result"
    },
    {
     "data": {
      "image/png": "[encoded data removed]",
      "text/plain": [
       "<matplotlib.figure.Figure at 0x115fc7d30>"
      ]
     },
     "metadata": {},
     "output_type": "display_data"
    }
   ],
   "source": [
    "# Plot to get an idea of spread of data\n",
    "plt.figure(figsize=(5, 8))\n",
    "plot = plt.subplot(111)\n",
    "sns.boxplot(titanic_df['Embarked'], titanic_df['Fare'],hue=titanic_df['Pclass'])\n",
    "plot.set_title('Boxplot of Fare in each Port')"
   ]
  },
  {
   "cell_type": "markdown",
   "metadata": {},
   "source": [
    "<h4 id=\"checkFunctions\">5.0 Functions</h4>\n",
    "The following functions will be used through this section."
   ]
  },
  {
   "cell_type": "code",
   "execution_count": 10,
   "metadata": {
    "collapsed": true
   },
   "outputs": [],
   "source": [
    "def countByGroup(df, group):    \n",
    "    #Summary:Check the number of people that survived and see if any unexpected values come up\n",
    "        #turn it into a dataframe so that we can print it out nicely.\n",
    "    #Input-\n",
    "        #df - a dataframe of the titanic data\n",
    "        #group - a stromg of the group that is the dataframe is being grouped by\n",
    "    #Output- dataframe of the count of each varible in the column\n",
    "    tb = pd.DataFrame(titanic_df.groupby(group).size())\n",
    "    #fix the dataframe so it prints out nice by default\n",
    "    tb.columns = ['Count']\n",
    "    tb.index.name = None\n",
    "    tb.columns.name = group\n",
    "    return(tb)\n",
    "\n",
    "def isAgeEstimate(age):\n",
    "    #Summary: Check to see if the age is an estimate\n",
    "    #Input: Float or NAN (represents the age. Should be a positive number)\n",
    "    #Output: Boolean (True if the age is not an estimate. False if it is an estimate or NAN if it is NAN)\n",
    "    \n",
    "    #If it is nan we are returning true. we do this first to avoid the issues of NAN being evaluated later on\n",
    "    if pd.isnull(age): \n",
    "        return(np.nan)\n",
    "    #If the age is less than 1 then is a baby, so it isn't considered an estimate\n",
    "    elif age < 1:\n",
    "        return(False)\n",
    "    #If the age minus the age rounded down is greater than 0 it means that the age must contain a .5 and therefore is an estimate\n",
    "    elif (age-np.floor(age)) > 0:\n",
    "        return(True)\n",
    "    #Everything else should not be an estimate\n",
    "    else:\n",
    "        return(False)"
   ]
  },
  {
   "cell_type": "markdown",
   "metadata": {},
   "source": [
    "<h4 id=\"Null\">5.1 Null Values</h4>\n",
    "One important item to check for is to see if there are any null values in each column. To do this we can run the following code:"
   ]
  },
  {
   "cell_type": "code",
   "execution_count": 11,
   "metadata": {
    "collapsed": false
   },
   "outputs": [
    {
     "data": {
      "text/html": [
       "<div>\n",
       "<table border=\"1\" class=\"dataframe\">\n",
       "  <thead>\n",
       "    <tr style=\"text-align: right;\">\n",
       "      <th>Pclass</th>\n",
       "      <th>Count</th>\n",
       "    </tr>\n",
       "  </thead>\n",
       "  <tbody>\n",
       "    <tr>\n",
       "      <th>PassengerId</th>\n",
       "      <td>0</td>\n",
       "    </tr>\n",
       "    <tr>\n",
       "      <th>Survived</th>\n",
       "      <td>0</td>\n",
       "    </tr>\n",
       "    <tr>\n",
       "      <th>Pclass</th>\n",
       "      <td>0</td>\n",
       "    </tr>\n",
       "    <tr>\n",
       "      <th>Name</th>\n",
       "      <td>0</td>\n",
       "    </tr>\n",
       "    <tr>\n",
       "      <th>Sex</th>\n",
       "      <td>0</td>\n",
       "    </tr>\n",
       "    <tr>\n",
       "      <th>Age</th>\n",
       "      <td>177</td>\n",
       "    </tr>\n",
       "    <tr>\n",
       "      <th>SibSp</th>\n",
       "      <td>0</td>\n",
       "    </tr>\n",
       "    <tr>\n",
       "      <th>Parch</th>\n",
       "      <td>0</td>\n",
       "    </tr>\n",
       "    <tr>\n",
       "      <th>Ticket</th>\n",
       "      <td>0</td>\n",
       "    </tr>\n",
       "    <tr>\n",
       "      <th>Fare</th>\n",
       "      <td>0</td>\n",
       "    </tr>\n",
       "    <tr>\n",
       "      <th>Cabin</th>\n",
       "      <td>687</td>\n",
       "    </tr>\n",
       "    <tr>\n",
       "      <th>Embarked</th>\n",
       "      <td>2</td>\n",
       "    </tr>\n",
       "  </tbody>\n",
       "</table>\n",
       "</div>"
      ],
      "text/plain": [
       "Pclass       Count\n",
       "PassengerId      0\n",
       "Survived         0\n",
       "Pclass           0\n",
       "Name             0\n",
       "Sex              0\n",
       "Age            177\n",
       "SibSp            0\n",
       "Parch            0\n",
       "Ticket           0\n",
       "Fare             0\n",
       "Cabin          687\n",
       "Embarked         2"
      ]
     },
     "execution_count": 11,
     "metadata": {},
     "output_type": "execute_result"
    }
   ],
   "source": [
    "#check for null values and sum it up for each column\n",
    "tb = pd.DataFrame(titanic_df.isnull().sum())\n",
    "#fix the dataframe so it prints out nice by default\n",
    "tb.columns = ['Count']\n",
    "tb.index.name = None\n",
    "tb.columns.name = 'Pclass'\n",
    "tb"
   ]
  },
  {
   "cell_type": "markdown",
   "metadata": {},
   "source": [
    "It appears that age, cabin, and embarked all have null values in them. This will need to be kept in mind when investigating the data latter on."
   ]
  },
  {
   "cell_type": "markdown",
   "metadata": {},
   "source": [
    "<h4 id=\"PassengerIDCheck\">5.2 PassengerID</h4>\n",
    "The 'PassengerID' column is supposed to be the unique ID for each passenger in the table, so there should be no duplicates or null values. Above it was confirmed that there is no null values in PassengerId, so now a check for duplicates will be performed."
   ]
  },
  {
   "cell_type": "code",
   "execution_count": 6,
   "metadata": {
    "collapsed": false
   },
   "outputs": [
    {
     "name": "stdout",
     "output_type": "stream",
     "text": [
      "Duplicates in PassengerID: 0\n"
     ]
    }
   ],
   "source": [
    "#check for duplicates in passengerID\n",
    "print(\"Duplicates in PassengerID:\", titanic_df.duplicated('PassengerId').sum())"
   ]
  },
  {
   "cell_type": "markdown",
   "metadata": {},
   "source": [
    "Since there is no duplicates or null values in PassengerID it appears that PassengerID is functioning as expected for this dataset."
   ]
  },
  {
   "cell_type": "markdown",
   "metadata": {},
   "source": [
    "<h4 id=\"TotalPassengers\">5.3 Number of Passengers</h4>\n",
    "By counting the number of rows in PassengerID the number of passengers will be gotten. This can be useful information to know when examining the data."
   ]
  },
  {
   "cell_type": "code",
   "execution_count": 7,
   "metadata": {
    "collapsed": false
   },
   "outputs": [
    {
     "name": "stdout",
     "output_type": "stream",
     "text": [
      "Number of Rows: 891\n"
     ]
    }
   ],
   "source": [
    "#count the number of rows we have\n",
    "print(\"Number of Rows:\",titanic_df.duplicated('PassengerId').count())"
   ]
  },
  {
   "cell_type": "markdown",
   "metadata": {},
   "source": [
    "<h4 id=\"SurvivedCheck\">5.4 Survived</h4>\n",
    "The survived column should only have two values. In order to check this a count can be performed for each variable in the column. If an unexpected value comes up it will appear along with the 0 and 1's."
   ]
  },
  {
   "cell_type": "code",
   "execution_count": 8,
   "metadata": {
    "collapsed": false
   },
   "outputs": [
    {
     "data": {
      "text/html": [
       "<div>\n",
       "<style>\n",
       "    .dataframe thead tr:only-child th {\n",
       "        text-align: right;\n",
       "    }\n",
       "\n",
       "    .dataframe thead th {\n",
       "        text-align: left;\n",
       "    }\n",
       "\n",
       "    .dataframe tbody tr th {\n",
       "        vertical-align: top;\n",
       "    }\n",
       "</style>\n",
       "<table border=\"1\" class=\"dataframe\">\n",
       "  <thead>\n",
       "    <tr style=\"text-align: right;\">\n",
       "      <th>Survived</th>\n",
       "      <th>Count</th>\n",
       "    </tr>\n",
       "  </thead>\n",
       "  <tbody>\n",
       "    <tr>\n",
       "      <th>0</th>\n",
       "      <td>549</td>\n",
       "    </tr>\n",
       "    <tr>\n",
       "      <th>1</th>\n",
       "      <td>342</td>\n",
       "    </tr>\n",
       "  </tbody>\n",
       "</table>\n",
       "</div>"
      ],
      "text/plain": [
       "Survived  Count\n",
       "0           549\n",
       "1           342"
      ]
     },
     "execution_count": 8,
     "metadata": {},
     "output_type": "execute_result"
    }
   ],
   "source": [
    "#Check the count of each variable in survivied\n",
    "countByGroup(titanic_df,\"Survived\")"
   ]
  },
  {
   "cell_type": "markdown",
   "metadata": {},
   "source": [
    "As shown in the table above this column contains the data as expected."
   ]
  },
  {
   "cell_type": "markdown",
   "metadata": {},
   "source": [
    "<h4 id=\"PclassCheck\">5.5 Pclass</h4>\n",
    "The Pclass as described by Kaggle is 'A proxy for socio-economic status (SES)'. This proxy is described with 3 numbers were 1 is the upper class, 2 is the middle class, and 3 is the lower class. It has a li"
   ]
  },
  {
   "cell_type": "code",
   "execution_count": 9,
   "metadata": {
    "collapsed": false
   },
   "outputs": [
    {
     "data": {
      "text/html": [
       "<div>\n",
       "<style>\n",
       "    .dataframe thead tr:only-child th {\n",
       "        text-align: right;\n",
       "    }\n",
       "\n",
       "    .dataframe thead th {\n",
       "        text-align: left;\n",
       "    }\n",
       "\n",
       "    .dataframe tbody tr th {\n",
       "        vertical-align: top;\n",
       "    }\n",
       "</style>\n",
       "<table border=\"1\" class=\"dataframe\">\n",
       "  <thead>\n",
       "    <tr style=\"text-align: right;\">\n",
       "      <th>Pclass</th>\n",
       "      <th>Count</th>\n",
       "    </tr>\n",
       "  </thead>\n",
       "  <tbody>\n",
       "    <tr>\n",
       "      <th>1</th>\n",
       "      <td>216</td>\n",
       "    </tr>\n",
       "    <tr>\n",
       "      <th>2</th>\n",
       "      <td>184</td>\n",
       "    </tr>\n",
       "    <tr>\n",
       "      <th>3</th>\n",
       "      <td>491</td>\n",
       "    </tr>\n",
       "  </tbody>\n",
       "</table>\n",
       "</div>"
      ],
      "text/plain": [
       "Pclass  Count\n",
       "1         216\n",
       "2         184\n",
       "3         491"
      ]
     },
     "execution_count": 9,
     "metadata": {},
     "output_type": "execute_result"
    }
   ],
   "source": [
    "#Check the count of each variable in Pclass\n",
    "countByGroup(titanic_df,\"Pclass\")"
   ]
  },
  {
   "cell_type": "markdown",
   "metadata": {},
   "source": [
    "Pclass appears as expected."
   ]
  },
  {
   "cell_type": "markdown",
   "metadata": {},
   "source": [
    "<h4 id=\"NameCheck\">5.6 Name</h4>\n",
    "The name column contains the names of each person on the titanic. This analysis will not use the names. However, the names will still be checked for duplicates. If there is a duplicate name further exploration will be needed in order to figure out if it is a repeat data point."
   ]
  },
  {
   "cell_type": "code",
   "execution_count": 10,
   "metadata": {
    "collapsed": false
   },
   "outputs": [
    {
     "name": "stdout",
     "output_type": "stream",
     "text": [
      "Duplicates in Name: 0\n"
     ]
    }
   ],
   "source": [
    "#check for duplicates in Name\n",
    "print(\"Duplicates in Name:\", titanic_df.duplicated('Name').sum())"
   ]
  },
  {
   "cell_type": "markdown",
   "metadata": {},
   "source": [
    "There are 0 duplicate names therefore it will be assumed that there are no duplicate rows."
   ]
  },
  {
   "cell_type": "markdown",
   "metadata": {},
   "source": [
    "<h4 id=\"SexCheck\">5.7 Sex</h4>"
   ]
  },
  {
   "cell_type": "code",
   "execution_count": 11,
   "metadata": {
    "collapsed": false
   },
   "outputs": [
    {
     "data": {
      "text/html": [
       "<div>\n",
       "<style>\n",
       "    .dataframe thead tr:only-child th {\n",
       "        text-align: right;\n",
       "    }\n",
       "\n",
       "    .dataframe thead th {\n",
       "        text-align: left;\n",
       "    }\n",
       "\n",
       "    .dataframe tbody tr th {\n",
       "        vertical-align: top;\n",
       "    }\n",
       "</style>\n",
       "<table border=\"1\" class=\"dataframe\">\n",
       "  <thead>\n",
       "    <tr style=\"text-align: right;\">\n",
       "      <th>Sex</th>\n",
       "      <th>Count</th>\n",
       "    </tr>\n",
       "  </thead>\n",
       "  <tbody>\n",
       "    <tr>\n",
       "      <th>female</th>\n",
       "      <td>314</td>\n",
       "    </tr>\n",
       "    <tr>\n",
       "      <th>male</th>\n",
       "      <td>577</td>\n",
       "    </tr>\n",
       "  </tbody>\n",
       "</table>\n",
       "</div>"
      ],
      "text/plain": [
       "Sex     Count\n",
       "female    314\n",
       "male      577"
      ]
     },
     "execution_count": 11,
     "metadata": {},
     "output_type": "execute_result"
    }
   ],
   "source": [
    "#Check the count of each variable in Sex\n",
    "countByGroup(titanic_df,\"Sex\")"
   ]
  },
  {
   "cell_type": "markdown",
   "metadata": {},
   "source": [
    "These counts and variables are with expectations. "
   ]
  },
  {
   "cell_type": "markdown",
   "metadata": {},
   "source": [
    "<h4 id=\"AgeCheck\">5.7 Age</h4>\n",
    "The age column is a numeric column with a large number of possibily values this means that it would not be practical to print out the count for each variable. Instead the range of ages will be checked to ensure that the ages make sense."
   ]
  },
  {
   "cell_type": "code",
   "execution_count": 12,
   "metadata": {
    "collapsed": false
   },
   "outputs": [
    {
     "name": "stdout",
     "output_type": "stream",
     "text": [
      "The minimum age is: 0.42\n",
      "The maximum age is: 80.0\n"
     ]
    }
   ],
   "source": [
    "print('The minimum age is:', titanic_df['Age'].min())\n",
    "print('The maximum age is:', titanic_df['Age'].max())"
   ]
  },
  {
   "cell_type": "markdown",
   "metadata": {},
   "source": [
    "The minimum and maximum are within a reasonable bound. As noted by Kaggle anyone under the age of one has a fraction as their age, but anyone over the age of one that is listed in the format XX.5 has an estimated age. In case it is needed latter on a column will be created that is false when the age is not an estimate and true when it is an estimate. (Null values will continue to be null)"
   ]
  },
  {
   "cell_type": "code",
   "execution_count": 13,
   "metadata": {
    "collapsed": false
   },
   "outputs": [
    {
     "name": "stdout",
     "output_type": "stream",
     "text": [
      "Number of Ages Estimated: 18\n"
     ]
    }
   ],
   "source": [
    "#create a column that will hold if the age is an estimate or not\n",
    "titanic_df['AgeIsEstimate'] = titanic_df['Age'].apply(isAgeEstimate)\n",
    "\n",
    "print('Number of Ages Estimated:',np.sum(titanic_df['AgeIsEstimate']))"
   ]
  },
  {
   "cell_type": "markdown",
   "metadata": {},
   "source": [
    "As calculated above we know 177 ages are NaN and 18 are estimates, so there is 696 confirmed ages."
   ]
  },
  {
   "cell_type": "markdown",
   "metadata": {},
   "source": [
    "<h4 id=\"SibSpCheck\">5.8 SibSp</h4>\n",
    "It is fairly unlikely to have more than 10 of siblings/spouses it is possible to do a simple count of the values within the column to check for any abnormalities."
   ]
  },
  {
   "cell_type": "code",
   "execution_count": 14,
   "metadata": {
    "collapsed": false
   },
   "outputs": [
    {
     "data": {
      "text/html": [
       "<div>\n",
       "<style>\n",
       "    .dataframe thead tr:only-child th {\n",
       "        text-align: right;\n",
       "    }\n",
       "\n",
       "    .dataframe thead th {\n",
       "        text-align: left;\n",
       "    }\n",
       "\n",
       "    .dataframe tbody tr th {\n",
       "        vertical-align: top;\n",
       "    }\n",
       "</style>\n",
       "<table border=\"1\" class=\"dataframe\">\n",
       "  <thead>\n",
       "    <tr style=\"text-align: right;\">\n",
       "      <th>SibSp</th>\n",
       "      <th>Count</th>\n",
       "    </tr>\n",
       "  </thead>\n",
       "  <tbody>\n",
       "    <tr>\n",
       "      <th>0</th>\n",
       "      <td>608</td>\n",
       "    </tr>\n",
       "    <tr>\n",
       "      <th>1</th>\n",
       "      <td>209</td>\n",
       "    </tr>\n",
       "    <tr>\n",
       "      <th>2</th>\n",
       "      <td>28</td>\n",
       "    </tr>\n",
       "    <tr>\n",
       "      <th>3</th>\n",
       "      <td>16</td>\n",
       "    </tr>\n",
       "    <tr>\n",
       "      <th>4</th>\n",
       "      <td>18</td>\n",
       "    </tr>\n",
       "    <tr>\n",
       "      <th>5</th>\n",
       "      <td>5</td>\n",
       "    </tr>\n",
       "    <tr>\n",
       "      <th>8</th>\n",
       "      <td>7</td>\n",
       "    </tr>\n",
       "  </tbody>\n",
       "</table>\n",
       "</div>"
      ],
      "text/plain": [
       "SibSp  Count\n",
       "0        608\n",
       "1        209\n",
       "2         28\n",
       "3         16\n",
       "4         18\n",
       "5          5\n",
       "8          7"
      ]
     },
     "execution_count": 14,
     "metadata": {},
     "output_type": "execute_result"
    }
   ],
   "source": [
    "#Check the count of each value in SibSp\n",
    "countByGroup(titanic_df,\"SibSp\")"
   ]
  },
  {
   "cell_type": "markdown",
   "metadata": {},
   "source": [
    "Again this column does not appear to have any unforeseen issues."
   ]
  },
  {
   "cell_type": "markdown",
   "metadata": {},
   "source": [
    "<h4 id=\"ParchCheck\">5.9 Parch</h4>\n",
    "The column of the number of parents/children aboard the Titanic can be checked similar to the SibSp column."
   ]
  },
  {
   "cell_type": "code",
   "execution_count": 15,
   "metadata": {
    "collapsed": false
   },
   "outputs": [
    {
     "data": {
      "text/html": [
       "<div>\n",
       "<style>\n",
       "    .dataframe thead tr:only-child th {\n",
       "        text-align: right;\n",
       "    }\n",
       "\n",
       "    .dataframe thead th {\n",
       "        text-align: left;\n",
       "    }\n",
       "\n",
       "    .dataframe tbody tr th {\n",
       "        vertical-align: top;\n",
       "    }\n",
       "</style>\n",
       "<table border=\"1\" class=\"dataframe\">\n",
       "  <thead>\n",
       "    <tr style=\"text-align: right;\">\n",
       "      <th>Parch</th>\n",
       "      <th>Count</th>\n",
       "    </tr>\n",
       "  </thead>\n",
       "  <tbody>\n",
       "    <tr>\n",
       "      <th>0</th>\n",
       "      <td>678</td>\n",
       "    </tr>\n",
       "    <tr>\n",
       "      <th>1</th>\n",
       "      <td>118</td>\n",
       "    </tr>\n",
       "    <tr>\n",
       "      <th>2</th>\n",
       "      <td>80</td>\n",
       "    </tr>\n",
       "    <tr>\n",
       "      <th>3</th>\n",
       "      <td>5</td>\n",
       "    </tr>\n",
       "    <tr>\n",
       "      <th>4</th>\n",
       "      <td>4</td>\n",
       "    </tr>\n",
       "    <tr>\n",
       "      <th>5</th>\n",
       "      <td>5</td>\n",
       "    </tr>\n",
       "    <tr>\n",
       "      <th>6</th>\n",
       "      <td>1</td>\n",
       "    </tr>\n",
       "  </tbody>\n",
       "</table>\n",
       "</div>"
      ],
      "text/plain": [
       "Parch  Count\n",
       "0        678\n",
       "1        118\n",
       "2         80\n",
       "3          5\n",
       "4          4\n",
       "5          5\n",
       "6          1"
      ]
     },
     "execution_count": 15,
     "metadata": {},
     "output_type": "execute_result"
    }
   ],
   "source": [
    "#Check the count of each value in Parch\n",
    "countByGroup(titanic_df,\"Parch\")"
   ]
  },
  {
   "cell_type": "markdown",
   "metadata": {},
   "source": [
    "These counts are reasonable."
   ]
  },
  {
   "cell_type": "markdown",
   "metadata": {},
   "source": [
    "<h4 id=\"TicketsCheck\">5.10 Tickets</h4>\n",
    "There is not much that is possible to check in this column.However, it might be useful to check the frequency of the number of people that have the same ticket id."
   ]
  },
  {
   "cell_type": "code",
   "execution_count": 16,
   "metadata": {
    "collapsed": false
   },
   "outputs": [
    {
     "data": {
      "text/html": [
       "<div>\n",
       "<style>\n",
       "    .dataframe thead tr:only-child th {\n",
       "        text-align: right;\n",
       "    }\n",
       "\n",
       "    .dataframe thead th {\n",
       "        text-align: left;\n",
       "    }\n",
       "\n",
       "    .dataframe tbody tr th {\n",
       "        vertical-align: top;\n",
       "    }\n",
       "</style>\n",
       "<table border=\"1\" class=\"dataframe\">\n",
       "  <thead>\n",
       "    <tr style=\"text-align: right;\">\n",
       "      <th>Number of Passengers with the same Ticket ID</th>\n",
       "      <th>Frequency</th>\n",
       "    </tr>\n",
       "  </thead>\n",
       "  <tbody>\n",
       "    <tr>\n",
       "      <th>1</th>\n",
       "      <td>547</td>\n",
       "    </tr>\n",
       "    <tr>\n",
       "      <th>2</th>\n",
       "      <td>94</td>\n",
       "    </tr>\n",
       "    <tr>\n",
       "      <th>3</th>\n",
       "      <td>21</td>\n",
       "    </tr>\n",
       "    <tr>\n",
       "      <th>4</th>\n",
       "      <td>11</td>\n",
       "    </tr>\n",
       "    <tr>\n",
       "      <th>5</th>\n",
       "      <td>2</td>\n",
       "    </tr>\n",
       "    <tr>\n",
       "      <th>6</th>\n",
       "      <td>3</td>\n",
       "    </tr>\n",
       "    <tr>\n",
       "      <th>7</th>\n",
       "      <td>3</td>\n",
       "    </tr>\n",
       "  </tbody>\n",
       "</table>\n",
       "</div>"
      ],
      "text/plain": [
       "Number of Passengers with the same Ticket ID  Frequency\n",
       "1                                                   547\n",
       "2                                                    94\n",
       "3                                                    21\n",
       "4                                                    11\n",
       "5                                                     2\n",
       "6                                                     3\n",
       "7                                                     3"
      ]
     },
     "execution_count": 16,
     "metadata": {},
     "output_type": "execute_result"
    }
   ],
   "source": [
    "#Some of the passangers are on the same ticket, so the first step is to count the number if passengers per ticket\n",
    "tb = countByGroup(titanic_df,\"Ticket\")\n",
    "#There are still to many records to reasonable look at, so it will be reduced to the a \n",
    "#frequency of the number of people on a ticket\n",
    "tb.columns = ['NumPassWithSameTicket']\n",
    "\n",
    "#add this information to the dataframe for later use.\n",
    "titanic_df = titanic_df.merge(tb, left_on='Ticket', right_index=True, how='left')\n",
    "\n",
    "tb = pd.DataFrame(tb.groupby('NumPassWithSameTicket').size())\n",
    "#fix the dataframe so it prints out nice by default\n",
    "tb.columns = ['Frequency']\n",
    "tb.index.name = None\n",
    "tb.columns.name = 'Number of Passengers with the same Ticket ID'\n",
    "tb\n"
   ]
  },
  {
   "cell_type": "markdown",
   "metadata": {},
   "source": [
    "<h4 id=\"FareCheck\">5.11 Fare</h4>\n",
    "Fare should be a positive number to some finite amount. Since there will not be a limited amount of possible values in this column it is reasonable to only check the min and max."
   ]
  },
  {
   "cell_type": "code",
   "execution_count": 17,
   "metadata": {
    "collapsed": false
   },
   "outputs": [
    {
     "name": "stdout",
     "output_type": "stream",
     "text": [
      "The minimum fare is: 0.0\n",
      "The maximum fare is: 512.3292\n"
     ]
    }
   ],
   "source": [
    "print('The minimum fare is:', titanic_df['Fare'].min())\n",
    "print('The maximum fare is:', titanic_df['Fare'].max())"
   ]
  },
  {
   "cell_type": "markdown",
   "metadata": {},
   "source": [
    "This range seems to be correct, but the decimal places is odd since the US dollar should only have 2 places. This was most likely due to Kaggle using some algorithm to normalize the fare to ensure it was all in one currency. It will be assumed that Kaggle knew what it was doing in this algorithm and the data is correct."
   ]
  },
  {
   "cell_type": "markdown",
   "metadata": {},
   "source": [
    "<h4 id=\"CabinCheck\">5.12 Cabin</h4>\n",
    "Cabin is hard to do an easy check for. The easiest thing to look at is the frequency of the number of people in a cabin. If there is a value that contains too many people (more than 8) it should be investigated."
   ]
  },
  {
   "cell_type": "code",
   "execution_count": 18,
   "metadata": {
    "collapsed": false
   },
   "outputs": [
    {
     "data": {
      "text/html": [
       "<div>\n",
       "<style>\n",
       "    .dataframe thead tr:only-child th {\n",
       "        text-align: right;\n",
       "    }\n",
       "\n",
       "    .dataframe thead th {\n",
       "        text-align: left;\n",
       "    }\n",
       "\n",
       "    .dataframe tbody tr th {\n",
       "        vertical-align: top;\n",
       "    }\n",
       "</style>\n",
       "<table border=\"1\" class=\"dataframe\">\n",
       "  <thead>\n",
       "    <tr style=\"text-align: right;\">\n",
       "      <th>Number of People in a Cabin</th>\n",
       "      <th>Frequency</th>\n",
       "    </tr>\n",
       "  </thead>\n",
       "  <tbody>\n",
       "    <tr>\n",
       "      <th>1</th>\n",
       "      <td>101</td>\n",
       "    </tr>\n",
       "    <tr>\n",
       "      <th>2</th>\n",
       "      <td>38</td>\n",
       "    </tr>\n",
       "    <tr>\n",
       "      <th>3</th>\n",
       "      <td>5</td>\n",
       "    </tr>\n",
       "    <tr>\n",
       "      <th>4</th>\n",
       "      <td>3</td>\n",
       "    </tr>\n",
       "  </tbody>\n",
       "</table>\n",
       "</div>"
      ],
      "text/plain": [
       "Number of People in a Cabin  Frequency\n",
       "1                                  101\n",
       "2                                   38\n",
       "3                                    5\n",
       "4                                    3"
      ]
     },
     "execution_count": 18,
     "metadata": {},
     "output_type": "execute_result"
    }
   ],
   "source": [
    "#Some of the passangers are on the same ticket, so the first step is to count the number if passengers per Cabin\n",
    "tb = countByGroup(titanic_df,\"Cabin\")\n",
    "#There are still to many records to reasonable look at, so it will be reduced to the a \n",
    "#frequency of the number of people on a Cabin\n",
    "tb = pd.DataFrame(tb.groupby('Count').size())\n",
    "\n",
    "#fix the dataframe so it prints out nice by default\n",
    "tb.columns = ['Frequency']\n",
    "tb.index.name = None\n",
    "tb.columns.name = 'Number of People in a Cabin'\n",
    "tb"
   ]
  },
  {
   "cell_type": "markdown",
   "metadata": {},
   "source": [
    "The number of people in each cabin appears to be reasonable."
   ]
  },
  {
   "cell_type": "markdown",
   "metadata": {},
   "source": [
    "<h4 id=\"EmbarkedCheck\">5.13 Embarked</h4>\n",
    "By Kaggles definition of this column there is only three expected values. Therefore a simple count of each of the values in this column should suffice."
   ]
  },
  {
   "cell_type": "code",
   "execution_count": 19,
   "metadata": {
    "collapsed": false
   },
   "outputs": [
    {
     "data": {
      "text/html": [
       "<div>\n",
       "<style>\n",
       "    .dataframe thead tr:only-child th {\n",
       "        text-align: right;\n",
       "    }\n",
       "\n",
       "    .dataframe thead th {\n",
       "        text-align: left;\n",
       "    }\n",
       "\n",
       "    .dataframe tbody tr th {\n",
       "        vertical-align: top;\n",
       "    }\n",
       "</style>\n",
       "<table border=\"1\" class=\"dataframe\">\n",
       "  <thead>\n",
       "    <tr style=\"text-align: right;\">\n",
       "      <th>Embarked</th>\n",
       "      <th>Count</th>\n",
       "    </tr>\n",
       "  </thead>\n",
       "  <tbody>\n",
       "    <tr>\n",
       "      <th>C</th>\n",
       "      <td>168</td>\n",
       "    </tr>\n",
       "    <tr>\n",
       "      <th>Q</th>\n",
       "      <td>77</td>\n",
       "    </tr>\n",
       "    <tr>\n",
       "      <th>S</th>\n",
       "      <td>644</td>\n",
       "    </tr>\n",
       "  </tbody>\n",
       "</table>\n",
       "</div>"
      ],
      "text/plain": [
       "Embarked  Count\n",
       "C           168\n",
       "Q            77\n",
       "S           644"
      ]
     },
     "execution_count": 19,
     "metadata": {},
     "output_type": "execute_result"
    }
   ],
   "source": [
    "#Check the count of each variable in Embarked\n",
    "countByGroup(titanic_df,\"Embarked\")"
   ]
  },
  {
   "cell_type": "markdown",
   "metadata": {},
   "source": [
    "There are only three values, so this column appears as expected."
   ]
  },
  {
   "cell_type": "markdown",
   "metadata": {},
   "source": [
    "<h4 id=\"SectionSummaryCheck\">5.13 Section Summary</h4>\n",
    "The following columns had their data appear as expected and will be used in the next section:\n",
    "\n",
    "* PassengerId\n",
    "* Survived\n",
    "* Pclass\n",
    "* Sex\n",
    "* Age - It should be noted that this column has 177 null values and 18 estimated ages. A additional column called AgeIsEstimate was added that holds if the age was null (NaN), an estimate (TRUE), and known (FALSE).\n",
    "* SibSp\n",
    "* Parch\n",
    "* Ticket - To properly analysis tickets would require some information beyond the scopre of this analysis. However, a new column called NumPassWithSameTicket will be used. This column holds the number of people with the same ticket id.\n",
    "* Fare\n",
    "* Embarked - This column has 2 null values.\n",
    "\n",
    "The following columns will not be used in further analysis:\n",
    "* Name - This data appeared as expected, but to properly use the Name column in the analysis information beyond the scope of this analysis should be used.  \n",
    "* Cabin - This column has a large number of null values, which means that the data set corresponding to it is small. It can also be noted that fare and pclass will already somewhat account for cabin since they should be loosely correlated to cabin placement.\n"
   ]
  },
  {
   "cell_type": "markdown",
   "metadata": {},
   "source": [
    "<h3 id=\"OneDimIntro\">6. One Dimensional Analysis of Columns By Survival</h3>\n",
    "This section is going to focus on looking at what columns might be predictors for survival. PassengerID is just a unique identifier and is only used to keep track of counts. The following columns will also not be examined for survival due to the the reasons mentioned in the summary of section 5: Name, and Cabin. To examine whether the columns might be predictors for survival two graphs will be generated to compare the number survived per column value and the percent survived per column values (ie in Embarked the column values are C, Q, and S). A table will also be generated that shows the number that survived and the percent of them that survived per column value. To accomplish this the following three functions will be used. Some columns will need additional work before they can be examined in the manner outlined above. Other columns also get grouped differently in order to see if there is a more efficient way of defining the data that can help predict survival."
   ]
  },
  {
   "cell_type": "markdown",
   "metadata": {},
   "source": [
    "<h4 id=\"OneDimFunctions\">6.0 Functions</h4>"
   ]
  },
  {
   "cell_type": "code",
   "execution_count": 20,
   "metadata": {
    "collapsed": true
   },
   "outputs": [],
   "source": [
    "def autoLabelPercent(chart, rects):\n",
    "    #Summary:Adds labels to bar charts that shows the height in percent\n",
    "    #input: \n",
    "        #Chart - the overall chart/fig\n",
    "        #rects - the individual bar chart\n",
    "    #output: NA\n",
    "    \n",
    "    #cycle though each of the rectangles that make up the bar chart\n",
    "    for rect in rects:\n",
    "        #get the height of the rectangels\n",
    "        height = rect.get_height()\n",
    "        #add thier height as text on the top of each rectangle\n",
    "        chart.text(rect.get_x() + rect.get_width()/2., 1.0*height,\n",
    "                \"{0:.2f}\".format(height)+\"%\",\n",
    "                ha='center', va='bottom')"
   ]
  },
  {
   "cell_type": "code",
   "execution_count": 21,
   "metadata": {
    "collapsed": true
   },
   "outputs": [],
   "source": [
    "def autoLabelNumber(chart, rects):\n",
    "    #Summary:Adds labels to bar charts that shows the height in percent\n",
    "    #input: \n",
    "        #Chart - the overall chart/fig\n",
    "        #rects - the individual bar chart\n",
    "    #output: NA\n",
    "    \n",
    "    #cycle though each of the rectangles that make up the bar chart\n",
    "    for rect in rects:\n",
    "        #get the height of the rectangels\n",
    "        height = rect.get_height()\n",
    "        #add thier height as text on the top of each rectangle\n",
    "        chart.text(rect.get_x() + rect.get_width()/2., 1.0*height,\n",
    "                \"{0:.0f}\".format(height),\n",
    "                ha='center', va='bottom')"
   ]
  },
  {
   "cell_type": "code",
   "execution_count": 22,
   "metadata": {
    "collapsed": true
   },
   "outputs": [],
   "source": [
    "def createSurvivalTable(titanic_df, colToCompare):\n",
    "    #Summary:Create a table of the totals and percentages of survival for each column value\n",
    "    #input: \n",
    "        #titanic_df - the titanic data set\n",
    "        #colToCompare - the column name we are compairing with survival rate\n",
    "    #output: pd dataframe of the totals and percentages of survival for each column value  \n",
    "    #Check the number of people that survived by the col we want to compare with\n",
    "    #turn it into a dataframe for easier manipulation\n",
    "    df = pd.DataFrame(titanic_df.groupby(['Survived',colToCompare])['PassengerId'].count())\n",
    "    \n",
    "    #Seperate the dataframe to those who survived and those taht did not\n",
    "    x = pd.DataFrame(df['PassengerId'][1])\n",
    "    y = pd.DataFrame(df['PassengerId'][0])\n",
    "   \n",
    "    #merge them together to make one nice table\n",
    "    tb = pd.merge(x, y, left_index =True, right_index=True, how='outer')\n",
    "    #give the columns proper names\n",
    "    tb.columns = ['Number Survived', 'Number Lost']\n",
    "    \n",
    "    #Set nan to 0. This makes sense in this situation since we are counting the number\n",
    "    tb = tb.fillna(value = 0)\n",
    "    \n",
    "    #Show the total for each row\n",
    "    tb['Total'] = tb['Number Survived']+tb['Number Lost'] \n",
    "\n",
    "    #create a column to hold the percent that survived\n",
    "    tb['Percent Survived'] = tb['Number Survived'] /tb['Total'] *100\n",
    "    \n",
    "    #create a column to hold the percent that survived\n",
    "    tb['Percent Lost'] = tb['Number Lost'] /tb['Total'] *100\n",
    "    tb=tb.round(decimals=0)\n",
    "    return(tb)"
   ]
  },
  {
   "cell_type": "code",
   "execution_count": 23,
   "metadata": {
    "collapsed": true
   },
   "outputs": [],
   "source": [
    "def getBarChartOfPercentSurvived(df,chartTitle,chartWidth,chartHeight, legendLocation):\n",
    "    #Summary:Gives a barchart for the percentage of those that survived vs those that didn't grouped by a chosen variable\n",
    "    #input:\n",
    "        #df - A pd dataframe of the count of the passangers grouped by survived and X variable\n",
    "        #chartTitle - The title of the chart\n",
    "        #chartWidth - Sets the width of the bar chart\n",
    "        #chartHeight - Sets the height of the bar chart\n",
    "    #output: A bar chart of the percent survived\n",
    "    \n",
    "    #Set graph size\n",
    "    plt.rcParams['figure.figsize'] = (chartWidth, chartHeight)\n",
    "    \n",
    "    #Create the overall chart and setup the indices and the width of the rectangles\n",
    "    fig, barChart = plt.subplots()\n",
    "    ind = np.arange(len(df.index.values))\n",
    "    width = 0.35\n",
    "\n",
    "    #Create the the bar charts for the survived and those who did not survive\n",
    "    survived = barChart.bar(ind, df['Percent Survived'], width, color = '#c4d79b')\n",
    "    nSurvived = barChart.bar(ind+width, df['Percent Lost'], width, color = '#da9694')\n",
    "\n",
    "    #Add some text for labels, title and axes ticks\n",
    "    barChart.set_ylabel('Percent')\n",
    "    barChart.set_title(chartTitle)\n",
    "    barChart.set_xticks(ind + width / 2)\n",
    "    barChart.set_xticklabels(df.index.values)\n",
    "    barChart.set_yticks(np.arange(0,110,10))\n",
    "   \n",
    "    #Create the harts legend\n",
    "    barChart.legend((survived[0], nSurvived[0]), ('Survived', 'Did Not Survive'),loc=legendLocation)\n",
    "\n",
    "    #Add the percent labels for reference        \n",
    "    autoLabelPercent(barChart, survived)\n",
    "    autoLabelPercent(barChart, nSurvived)\n",
    "    \n",
    "    return(barChart)\n"
   ]
  },
  {
   "cell_type": "code",
   "execution_count": 24,
   "metadata": {
    "collapsed": true
   },
   "outputs": [],
   "source": [
    "def getBarChartOfNumberSurvived(df,chartTitle,chartWidth,chartHeight, legendLocation):\n",
    "    #Summary:Gives a barchart for the number of those that survived vs those that didn't grouped by a chosen variable\n",
    "    #input:\n",
    "        #df - A pd dataframe of the count of the passangers grouped by survived and X variable\n",
    "        #chartTitle - The title of the chart\n",
    "        #chartWidth - Sets the width of the bar chart\n",
    "        #chartHeight - Sets the height of the bar chart\n",
    "    #output: A bar chart of the percent survived\n",
    "    \n",
    "    #Set graph size\n",
    "    plt.rcParams['figure.figsize'] = (chartWidth, chartHeight)\n",
    "    \n",
    "    #Create the overall chart and setup the indices and the width of the rectangles\n",
    "    fig, barChart = plt.subplots()\n",
    "    ind = np.arange(len(df.index.values))\n",
    "    width = 0.35\n",
    "\n",
    "    #Create the the bar charts for the survived and those who did not survive\n",
    "    survived = barChart.bar(ind, df['Number Survived'], width, color = '#c4d79b')\n",
    "    nSurvived = barChart.bar(ind+width, df['Number Lost'], width, color = '#da9694')\n",
    "\n",
    "    #Add some text for labels, title and axes ticks\n",
    "    barChart.set_ylabel('Number')\n",
    "    barChart.set_title(chartTitle)\n",
    "    barChart.set_xticks(ind + width / 2)\n",
    "    barChart.set_xticklabels(df.index.values)\n",
    " \n",
    "    #Create the harts legend\n",
    "    barChart.legend((survived[0], nSurvived[0]), ('Survived', 'Did Not Survive'),loc=legendLocation)\n",
    "\n",
    "    #Add the percent labels for reference        \n",
    "    autoLabelNumber(barChart, survived)\n",
    "    autoLabelNumber(barChart, nSurvived)\n",
    "    \n",
    "    return(barChart)"
   ]
  },
  {
   "cell_type": "code",
   "execution_count": 25,
   "metadata": {
    "collapsed": true
   },
   "outputs": [],
   "source": [
    "def setAgeGroups(age):\n",
    "    #Summary: group the ages together\n",
    "    #Input: Number - The persons age\n",
    "    #Output: string - age group\n",
    "    if age<10:\n",
    "        return('0-9')\n",
    "    elif age<20:\n",
    "        return('10-19')\n",
    "    elif age<30:\n",
    "        return('20-29')\n",
    "    elif age<40:\n",
    "        return('30-39')\n",
    "    elif age<50:\n",
    "        return('40-49')\n",
    "    elif age<60:\n",
    "        return('50-59')\n",
    "    elif age<70:\n",
    "        return('60-69')\n",
    "    elif age<80:\n",
    "        return('70-79')\n",
    "    elif age<90:\n",
    "        return('80-89')\n",
    "    else:\n",
    "        return(age)"
   ]
  },
  {
   "cell_type": "code",
   "execution_count": 26,
   "metadata": {
    "collapsed": true
   },
   "outputs": [],
   "source": [
    "def setUnderXAgeText(age, ageToBeUnder):\n",
    "    #Summary: Check if someone is under 18 years old\n",
    "    #Input: \n",
    "        #age - The persons age\n",
    "        #ageToBeunder\n",
    "    #Output: string - Says if the person is under 18 or not\n",
    "    if age<ageToBeUnder:\n",
    "        toRet = 'Under ' + str(ageToBeUnder)\n",
    "        return(toRet)\n",
    "    else:\n",
    "        toRet =  str(ageToBeUnder) + ' or Older'\n",
    "        return(toRet)"
   ]
  },
  {
   "cell_type": "code",
   "execution_count": 27,
   "metadata": {
    "collapsed": true
   },
   "outputs": [],
   "source": [
    "def setCreatePercentilesCol(datapoint, percentiles, column):\n",
    "    #Summary: Figures out what percentile a data point is in a column\n",
    "    #Input: \n",
    "        #datapoint - The data point you are checking to see what percential the data point lies in the \n",
    "        #percentiles - An array of the percentiles that should be sorted from least to greatest last one must be a 1\n",
    "        #column - the data column that is needed to calculate the percentile\n",
    "    #Output: String - returns a string of what quartile the datapoint is in\n",
    "    #get the numeric value for each percentile\n",
    "    percentilesNumeric = column.quantile(percentiles)\n",
    "    #create a varible to count which percentile it is on\n",
    "    percentileIndex = 0\n",
    "    #loop through each of the numeric percentiles\n",
    "    for percentile in percentilesNumeric:\n",
    "        if (datapoint <= percentile):\n",
    "            if(percentileIndex == 0):\n",
    "                return(\"0-\" + str(int(percentiles[percentileIndex]*100)) + \"%\")\n",
    "            else:\n",
    "                return(str(int(percentiles[percentileIndex-1]*100))+\"-\"+str(int(percentiles[percentileIndex]*100))+\"%\")\n",
    "            \n",
    "        percentileIndex=percentileIndex+1\n",
    "    #put in in case something goes wrong. Will mainly catch if there is not 1 in the percentiles array\n",
    "    return(\"Error in percentile array\")"
   ]
  },
  {
   "cell_type": "markdown",
   "metadata": {},
   "source": [
    "<h4  id=\"OnePclass\">6.1 Pclass</h4>"
   ]
  },
  {
   "cell_type": "code",
   "execution_count": 28,
   "metadata": {
    "collapsed": false
   },
   "outputs": [
    {
     "data": {
      "image/png": "[encoded data removed]",
      "text/plain": [
       "<matplotlib.figure.Figure at 0x1e65c0eed30>"
      ]
     },
     "metadata": {},
     "output_type": "display_data"
    },
    {
     "data": {
      "image/png": "[encoded data removed]",
      "text/plain": [
       "<matplotlib.figure.Figure at 0x1e65c0eea58>"
      ]
     },
     "metadata": {},
     "output_type": "display_data"
    },
    {
     "data": {
      "text/html": [
       "<div>\n",
       "<style>\n",
       "    .dataframe thead tr:only-child th {\n",
       "        text-align: right;\n",
       "    }\n",
       "\n",
       "    .dataframe thead th {\n",
       "        text-align: left;\n",
       "    }\n",
       "\n",
       "    .dataframe tbody tr th {\n",
       "        vertical-align: top;\n",
       "    }\n",
       "</style>\n",
       "<table border=\"1\" class=\"dataframe\">\n",
       "  <thead>\n",
       "    <tr style=\"text-align: right;\">\n",
       "      <th></th>\n",
       "      <th>Number Survived</th>\n",
       "      <th>Number Lost</th>\n",
       "      <th>Total</th>\n",
       "      <th>Percent Survived</th>\n",
       "      <th>Percent Lost</th>\n",
       "    </tr>\n",
       "    <tr>\n",
       "      <th>Pclass</th>\n",
       "      <th></th>\n",
       "      <th></th>\n",
       "      <th></th>\n",
       "      <th></th>\n",
       "      <th></th>\n",
       "    </tr>\n",
       "  </thead>\n",
       "  <tbody>\n",
       "    <tr>\n",
       "      <th>1</th>\n",
       "      <td>136</td>\n",
       "      <td>80</td>\n",
       "      <td>216</td>\n",
       "      <td>63</td>\n",
       "      <td>37</td>\n",
       "    </tr>\n",
       "    <tr>\n",
       "      <th>2</th>\n",
       "      <td>87</td>\n",
       "      <td>97</td>\n",
       "      <td>184</td>\n",
       "      <td>47</td>\n",
       "      <td>53</td>\n",
       "    </tr>\n",
       "    <tr>\n",
       "      <th>3</th>\n",
       "      <td>119</td>\n",
       "      <td>372</td>\n",
       "      <td>491</td>\n",
       "      <td>24</td>\n",
       "      <td>76</td>\n",
       "    </tr>\n",
       "  </tbody>\n",
       "</table>\n",
       "</div>"
      ],
      "text/plain": [
       "        Number Survived  Number Lost  Total  Percent Survived  Percent Lost\n",
       "Pclass                                                                     \n",
       "1                   136           80    216                63            37\n",
       "2                    87           97    184                47            53\n",
       "3                   119          372    491                24            76"
      ]
     },
     "execution_count": 28,
     "metadata": {},
     "output_type": "execute_result"
    }
   ],
   "source": [
    "#creat the table\n",
    "tb=createSurvivalTable(titanic_df,'Pclass')\n",
    "#create the bar chart\n",
    "getBarChartOfNumberSurvived(tb,'Number Survived by Pclass',10.0,5.0, 'upper left')\n",
    "getBarChartOfPercentSurvived(tb,'Percent Survived by Pclass',10.0,5.0, 'upper left')\n",
    "#show the graph\n",
    "plt.show()\n",
    "#print the table    \n",
    "tb"
   ]
  },
  {
   "cell_type": "markdown",
   "metadata": {},
   "source": [
    "From the data above we can gather that Pclass (proxy for socio-economic status) does appear to have the capability to help predict survival rates. Specifically it appears that the lower the Pclass the less likely they were to survive. This column will be used further in the next section as it clearly might effect survival rate."
   ]
  },
  {
   "cell_type": "markdown",
   "metadata": {},
   "source": [
    "<h4  id=\"OneDimGender\" >6.2 Gender</h4>"
   ]
  },
  {
   "cell_type": "code",
   "execution_count": 29,
   "metadata": {
    "collapsed": false,
    "scrolled": false
   },
   "outputs": [
    {
     "data": {
      "image/png": "[encoded data removed]",
      "text/plain": [
       "<matplotlib.figure.Figure at 0x1e65c5e9b00>"
      ]
     },
     "metadata": {},
     "output_type": "display_data"
    },
    {
     "data": {
      "image/png": "[encoded data removed]",
      "text/plain": [
       "<matplotlib.figure.Figure at 0x1e65c5b4d30>"
      ]
     },
     "metadata": {},
     "output_type": "display_data"
    },
    {
     "data": {
      "text/html": [
       "<div>\n",
       "<style>\n",
       "    .dataframe thead tr:only-child th {\n",
       "        text-align: right;\n",
       "    }\n",
       "\n",
       "    .dataframe thead th {\n",
       "        text-align: left;\n",
       "    }\n",
       "\n",
       "    .dataframe tbody tr th {\n",
       "        vertical-align: top;\n",
       "    }\n",
       "</style>\n",
       "<table border=\"1\" class=\"dataframe\">\n",
       "  <thead>\n",
       "    <tr style=\"text-align: right;\">\n",
       "      <th></th>\n",
       "      <th>Number Survived</th>\n",
       "      <th>Number Lost</th>\n",
       "      <th>Total</th>\n",
       "      <th>Percent Survived</th>\n",
       "      <th>Percent Lost</th>\n",
       "    </tr>\n",
       "    <tr>\n",
       "      <th>Sex</th>\n",
       "      <th></th>\n",
       "      <th></th>\n",
       "      <th></th>\n",
       "      <th></th>\n",
       "      <th></th>\n",
       "    </tr>\n",
       "  </thead>\n",
       "  <tbody>\n",
       "    <tr>\n",
       "      <th>female</th>\n",
       "      <td>233</td>\n",
       "      <td>81</td>\n",
       "      <td>314</td>\n",
       "      <td>74</td>\n",
       "      <td>26</td>\n",
       "    </tr>\n",
       "    <tr>\n",
       "      <th>male</th>\n",
       "      <td>109</td>\n",
       "      <td>468</td>\n",
       "      <td>577</td>\n",
       "      <td>19</td>\n",
       "      <td>81</td>\n",
       "    </tr>\n",
       "  </tbody>\n",
       "</table>\n",
       "</div>"
      ],
      "text/plain": [
       "        Number Survived  Number Lost  Total  Percent Survived  Percent Lost\n",
       "Sex                                                                        \n",
       "female              233           81    314                74            26\n",
       "male                109          468    577                19            81"
      ]
     },
     "execution_count": 29,
     "metadata": {},
     "output_type": "execute_result"
    }
   ],
   "source": [
    "#creat the table\n",
    "tb=createSurvivalTable(titanic_df,'Sex')\n",
    "#create the bar chart\n",
    "getBarChartOfNumberSurvived(tb,'Number Survived by Gender',8.0,5.0, 'upper left')\n",
    "getBarChartOfPercentSurvived(tb,'Percent Survived by Gender',8.0,5.0, 'upper left')\n",
    "#show the graph\n",
    "plt.show()\n",
    "#print the table    \n",
    "tb"
   ]
  },
  {
   "cell_type": "markdown",
   "metadata": {},
   "source": [
    "Using the data above it is likely that gender will also play an important role in predicting survival as far more females than males survived."
   ]
  },
  {
   "cell_type": "markdown",
   "metadata": {},
   "source": [
    "<h4  id=\"OneDimSibSp\">6.3 SibSp</h4>"
   ]
  },
  {
   "cell_type": "code",
   "execution_count": 30,
   "metadata": {
    "collapsed": false
   },
   "outputs": [
    {
     "data": {
      "image/png": "[encoded data removed]",
      "text/plain": [
       "<matplotlib.figure.Figure at 0x1e65c0ee978>"
      ]
     },
     "metadata": {},
     "output_type": "display_data"
    },
    {
     "data": {
      "text/html": [
       "<div>\n",
       "<style>\n",
       "    .dataframe thead tr:only-child th {\n",
       "        text-align: right;\n",
       "    }\n",
       "\n",
       "    .dataframe thead th {\n",
       "        text-align: left;\n",
       "    }\n",
       "\n",
       "    .dataframe tbody tr th {\n",
       "        vertical-align: top;\n",
       "    }\n",
       "</style>\n",
       "<table border=\"1\" class=\"dataframe\">\n",
       "  <thead>\n",
       "    <tr style=\"text-align: right;\">\n",
       "      <th></th>\n",
       "      <th>Number Survived</th>\n",
       "      <th>Number Lost</th>\n",
       "      <th>Total</th>\n",
       "      <th>Percent Survived</th>\n",
       "      <th>Percent Lost</th>\n",
       "    </tr>\n",
       "    <tr>\n",
       "      <th>SibSp</th>\n",
       "      <th></th>\n",
       "      <th></th>\n",
       "      <th></th>\n",
       "      <th></th>\n",
       "      <th></th>\n",
       "    </tr>\n",
       "  </thead>\n",
       "  <tbody>\n",
       "    <tr>\n",
       "      <th>0</th>\n",
       "      <td>210</td>\n",
       "      <td>398</td>\n",
       "      <td>608</td>\n",
       "      <td>35</td>\n",
       "      <td>65</td>\n",
       "    </tr>\n",
       "    <tr>\n",
       "      <th>1</th>\n",
       "      <td>112</td>\n",
       "      <td>97</td>\n",
       "      <td>209</td>\n",
       "      <td>54</td>\n",
       "      <td>46</td>\n",
       "    </tr>\n",
       "    <tr>\n",
       "      <th>2</th>\n",
       "      <td>13</td>\n",
       "      <td>15</td>\n",
       "      <td>28</td>\n",
       "      <td>46</td>\n",
       "      <td>54</td>\n",
       "    </tr>\n",
       "    <tr>\n",
       "      <th>3</th>\n",
       "      <td>4</td>\n",
       "      <td>12</td>\n",
       "      <td>16</td>\n",
       "      <td>25</td>\n",
       "      <td>75</td>\n",
       "    </tr>\n",
       "    <tr>\n",
       "      <th>4</th>\n",
       "      <td>3</td>\n",
       "      <td>15</td>\n",
       "      <td>18</td>\n",
       "      <td>17</td>\n",
       "      <td>83</td>\n",
       "    </tr>\n",
       "    <tr>\n",
       "      <th>5</th>\n",
       "      <td>0</td>\n",
       "      <td>5</td>\n",
       "      <td>5</td>\n",
       "      <td>0</td>\n",
       "      <td>100</td>\n",
       "    </tr>\n",
       "    <tr>\n",
       "      <th>8</th>\n",
       "      <td>0</td>\n",
       "      <td>7</td>\n",
       "      <td>7</td>\n",
       "      <td>0</td>\n",
       "      <td>100</td>\n",
       "    </tr>\n",
       "  </tbody>\n",
       "</table>\n",
       "</div>"
      ],
      "text/plain": [
       "       Number Survived  Number Lost  Total  Percent Survived  Percent Lost\n",
       "SibSp                                                                     \n",
       "0                  210          398    608                35            65\n",
       "1                  112           97    209                54            46\n",
       "2                   13           15     28                46            54\n",
       "3                    4           12     16                25            75\n",
       "4                    3           15     18                17            83\n",
       "5                    0            5      5                 0           100\n",
       "8                    0            7      7                 0           100"
      ]
     },
     "execution_count": 30,
     "metadata": {},
     "output_type": "execute_result"
    }
   ],
   "source": [
    "#create the table\n",
    "tb=createSurvivalTable(titanic_df,'SibSp')\n",
    "#create the bar chart\n",
    "getBarChartOfNumberSurvived(tb,'Number Survived by Has SibSp',15.0,5.0, 'upper right')\n",
    "#show the graph\n",
    "plt.show()\n",
    "#print the table    \n",
    "tb"
   ]
  },
  {
   "cell_type": "markdown",
   "metadata": {},
   "source": [
    "The data displayed on this graph is a bit more unclear than the previous columns. Due to the limited data we have for passengers with 2+ SibSp it might be better to instead look at it as simply if they have a spouse or siblings. The percent graph was emitted due to it being misleading."
   ]
  },
  {
   "cell_type": "code",
   "execution_count": 31,
   "metadata": {
    "collapsed": false
   },
   "outputs": [
    {
     "data": {
      "image/png": "[encoded data removed]",
      "text/plain": [
       "<matplotlib.figure.Figure at 0x1e65c7be240>"
      ]
     },
     "metadata": {},
     "output_type": "display_data"
    },
    {
     "data": {
      "image/png": "[encoded data removed]",
      "text/plain": [
       "<matplotlib.figure.Figure at 0x1e65d8418d0>"
      ]
     },
     "metadata": {},
     "output_type": "display_data"
    },
    {
     "data": {
      "text/html": [
       "<div>\n",
       "<style>\n",
       "    .dataframe thead tr:only-child th {\n",
       "        text-align: right;\n",
       "    }\n",
       "\n",
       "    .dataframe thead th {\n",
       "        text-align: left;\n",
       "    }\n",
       "\n",
       "    .dataframe tbody tr th {\n",
       "        vertical-align: top;\n",
       "    }\n",
       "</style>\n",
       "<table border=\"1\" class=\"dataframe\">\n",
       "  <thead>\n",
       "    <tr style=\"text-align: right;\">\n",
       "      <th></th>\n",
       "      <th>Number Survived</th>\n",
       "      <th>Number Lost</th>\n",
       "      <th>Total</th>\n",
       "      <th>Percent Survived</th>\n",
       "      <th>Percent Lost</th>\n",
       "    </tr>\n",
       "    <tr>\n",
       "      <th>Has SibSp</th>\n",
       "      <th></th>\n",
       "      <th></th>\n",
       "      <th></th>\n",
       "      <th></th>\n",
       "      <th></th>\n",
       "    </tr>\n",
       "  </thead>\n",
       "  <tbody>\n",
       "    <tr>\n",
       "      <th>False</th>\n",
       "      <td>210</td>\n",
       "      <td>398</td>\n",
       "      <td>608</td>\n",
       "      <td>35</td>\n",
       "      <td>65</td>\n",
       "    </tr>\n",
       "    <tr>\n",
       "      <th>True</th>\n",
       "      <td>132</td>\n",
       "      <td>151</td>\n",
       "      <td>283</td>\n",
       "      <td>47</td>\n",
       "      <td>53</td>\n",
       "    </tr>\n",
       "  </tbody>\n",
       "</table>\n",
       "</div>"
      ],
      "text/plain": [
       "           Number Survived  Number Lost  Total  Percent Survived  Percent Lost\n",
       "Has SibSp                                                                     \n",
       "False                  210          398    608                35            65\n",
       "True                   132          151    283                47            53"
      ]
     },
     "execution_count": 31,
     "metadata": {},
     "output_type": "execute_result"
    }
   ],
   "source": [
    "#create new column to check for sibling or spouse\n",
    "titanic_df['Has SibSp'] = titanic_df['SibSp'] > 0\n",
    "#create the table\n",
    "tb=createSurvivalTable(titanic_df,'Has SibSp')\n",
    "#create the bar chart\n",
    "getBarChartOfNumberSurvived(tb,'Number Survived by Has SibSp',6.0,5.0, 'upper right')\n",
    "getBarChartOfPercentSurvived(tb,'Percent Survived by Has SibSp',6.0,5.0, 'upper left')\n",
    "#show the graph\n",
    "plt.show()\n",
    "#print the table    \n",
    "tb"
   ]
  },
  {
   "cell_type": "markdown",
   "metadata": {},
   "source": [
    "Looking at the data in this manner it appears that having a SibSp indicates that there is a slightly higher chance of survival. This column will be used instead of SibSp in the next section."
   ]
  },
  {
   "cell_type": "markdown",
   "metadata": {},
   "source": [
    "<h4  id=\"OneDimParch\">6.4 Parch</h4>"
   ]
  },
  {
   "cell_type": "code",
   "execution_count": 32,
   "metadata": {
    "collapsed": false
   },
   "outputs": [
    {
     "data": {
      "image/png": "[encoded data removed]",
      "text/plain": [
       "<matplotlib.figure.Figure at 0x1e65d99c748>"
      ]
     },
     "metadata": {},
     "output_type": "display_data"
    },
    {
     "data": {
      "text/html": [
       "<div>\n",
       "<style>\n",
       "    .dataframe thead tr:only-child th {\n",
       "        text-align: right;\n",
       "    }\n",
       "\n",
       "    .dataframe thead th {\n",
       "        text-align: left;\n",
       "    }\n",
       "\n",
       "    .dataframe tbody tr th {\n",
       "        vertical-align: top;\n",
       "    }\n",
       "</style>\n",
       "<table border=\"1\" class=\"dataframe\">\n",
       "  <thead>\n",
       "    <tr style=\"text-align: right;\">\n",
       "      <th></th>\n",
       "      <th>Number Survived</th>\n",
       "      <th>Number Lost</th>\n",
       "      <th>Total</th>\n",
       "      <th>Percent Survived</th>\n",
       "      <th>Percent Lost</th>\n",
       "    </tr>\n",
       "    <tr>\n",
       "      <th>Parch</th>\n",
       "      <th></th>\n",
       "      <th></th>\n",
       "      <th></th>\n",
       "      <th></th>\n",
       "      <th></th>\n",
       "    </tr>\n",
       "  </thead>\n",
       "  <tbody>\n",
       "    <tr>\n",
       "      <th>0</th>\n",
       "      <td>233</td>\n",
       "      <td>445</td>\n",
       "      <td>678</td>\n",
       "      <td>34</td>\n",
       "      <td>66</td>\n",
       "    </tr>\n",
       "    <tr>\n",
       "      <th>1</th>\n",
       "      <td>65</td>\n",
       "      <td>53</td>\n",
       "      <td>118</td>\n",
       "      <td>55</td>\n",
       "      <td>45</td>\n",
       "    </tr>\n",
       "    <tr>\n",
       "      <th>2</th>\n",
       "      <td>40</td>\n",
       "      <td>40</td>\n",
       "      <td>80</td>\n",
       "      <td>50</td>\n",
       "      <td>50</td>\n",
       "    </tr>\n",
       "    <tr>\n",
       "      <th>3</th>\n",
       "      <td>3</td>\n",
       "      <td>2</td>\n",
       "      <td>5</td>\n",
       "      <td>60</td>\n",
       "      <td>40</td>\n",
       "    </tr>\n",
       "    <tr>\n",
       "      <th>4</th>\n",
       "      <td>0</td>\n",
       "      <td>4</td>\n",
       "      <td>4</td>\n",
       "      <td>0</td>\n",
       "      <td>100</td>\n",
       "    </tr>\n",
       "    <tr>\n",
       "      <th>5</th>\n",
       "      <td>1</td>\n",
       "      <td>4</td>\n",
       "      <td>5</td>\n",
       "      <td>20</td>\n",
       "      <td>80</td>\n",
       "    </tr>\n",
       "    <tr>\n",
       "      <th>6</th>\n",
       "      <td>0</td>\n",
       "      <td>1</td>\n",
       "      <td>1</td>\n",
       "      <td>0</td>\n",
       "      <td>100</td>\n",
       "    </tr>\n",
       "  </tbody>\n",
       "</table>\n",
       "</div>"
      ],
      "text/plain": [
       "       Number Survived  Number Lost  Total  Percent Survived  Percent Lost\n",
       "Parch                                                                     \n",
       "0                  233          445    678                34            66\n",
       "1                   65           53    118                55            45\n",
       "2                   40           40     80                50            50\n",
       "3                    3            2      5                60            40\n",
       "4                    0            4      4                 0           100\n",
       "5                    1            4      5                20            80\n",
       "6                    0            1      1                 0           100"
      ]
     },
     "execution_count": 32,
     "metadata": {},
     "output_type": "execute_result"
    }
   ],
   "source": [
    "#creat the table\n",
    "tb=createSurvivalTable(titanic_df,'Parch')\n",
    "#create the bar chart\n",
    "getBarChartOfNumberSurvived(tb,'Number Survived by Has Parch',15.0,5.0, 'upper right')\n",
    "#show the graph\n",
    "plt.show()\n",
    "#print the table    \n",
    "tb"
   ]
  },
  {
   "cell_type": "markdown",
   "metadata": {},
   "source": [
    "This data also appears to have the same issues as the one above, so a similar check is preformed. The percent graph was emitted due to it being misleading."
   ]
  },
  {
   "cell_type": "code",
   "execution_count": 33,
   "metadata": {
    "collapsed": false
   },
   "outputs": [
    {
     "data": {
      "image/png": "[encoded data removed]",
      "text/plain": [
       "<matplotlib.figure.Figure at 0x1e65d9d7710>"
      ]
     },
     "metadata": {},
     "output_type": "display_data"
    },
    {
     "data": {
      "image/png": "[encoded data removed]",
      "text/plain": [
       "<matplotlib.figure.Figure at 0x1e65c0e5f60>"
      ]
     },
     "metadata": {},
     "output_type": "display_data"
    },
    {
     "data": {
      "text/html": [
       "<div>\n",
       "<style>\n",
       "    .dataframe thead tr:only-child th {\n",
       "        text-align: right;\n",
       "    }\n",
       "\n",
       "    .dataframe thead th {\n",
       "        text-align: left;\n",
       "    }\n",
       "\n",
       "    .dataframe tbody tr th {\n",
       "        vertical-align: top;\n",
       "    }\n",
       "</style>\n",
       "<table border=\"1\" class=\"dataframe\">\n",
       "  <thead>\n",
       "    <tr style=\"text-align: right;\">\n",
       "      <th></th>\n",
       "      <th>Number Survived</th>\n",
       "      <th>Number Lost</th>\n",
       "      <th>Total</th>\n",
       "      <th>Percent Survived</th>\n",
       "      <th>Percent Lost</th>\n",
       "    </tr>\n",
       "    <tr>\n",
       "      <th>Has Parch</th>\n",
       "      <th></th>\n",
       "      <th></th>\n",
       "      <th></th>\n",
       "      <th></th>\n",
       "      <th></th>\n",
       "    </tr>\n",
       "  </thead>\n",
       "  <tbody>\n",
       "    <tr>\n",
       "      <th>False</th>\n",
       "      <td>233</td>\n",
       "      <td>445</td>\n",
       "      <td>678</td>\n",
       "      <td>34</td>\n",
       "      <td>66</td>\n",
       "    </tr>\n",
       "    <tr>\n",
       "      <th>True</th>\n",
       "      <td>109</td>\n",
       "      <td>104</td>\n",
       "      <td>213</td>\n",
       "      <td>51</td>\n",
       "      <td>49</td>\n",
       "    </tr>\n",
       "  </tbody>\n",
       "</table>\n",
       "</div>"
      ],
      "text/plain": [
       "           Number Survived  Number Lost  Total  Percent Survived  Percent Lost\n",
       "Has Parch                                                                     \n",
       "False                  233          445    678                34            66\n",
       "True                   109          104    213                51            49"
      ]
     },
     "execution_count": 33,
     "metadata": {},
     "output_type": "execute_result"
    }
   ],
   "source": [
    "#create new column to check for sibling or spouse\n",
    "titanic_df['Has Parch'] = titanic_df['Parch'] > 0\n",
    "#create the table\n",
    "tb=createSurvivalTable(titanic_df,'Has Parch')\n",
    "#create the bar chart\n",
    "getBarChartOfNumberSurvived(tb,'Number Survived by Has Parch',6.0,5.0, 'upper right')\n",
    "getBarChartOfPercentSurvived(tb,'Percent Survived by Has Parch',6.0,5.0, 'upper left')\n",
    "#show the graph\n",
    "plt.show()\n",
    "#print the table    \n",
    "tb"
   ]
  },
  {
   "cell_type": "markdown",
   "metadata": {},
   "source": [
    "Again this is similar to the above data in that it appears better to use this simplified column in the next section. "
   ]
  },
  {
   "cell_type": "markdown",
   "metadata": {},
   "source": [
    "<h4  id=\"OneDimAge\">6.5 Number Passengers with the Same Ticket ID</h4>"
   ]
  },
  {
   "cell_type": "code",
   "execution_count": 34,
   "metadata": {
    "collapsed": false
   },
   "outputs": [
    {
     "data": {
      "image/png": "[encoded data removed]",
      "text/plain": [
       "<matplotlib.figure.Figure at 0x1e65ddd95f8>"
      ]
     },
     "metadata": {},
     "output_type": "display_data"
    },
    {
     "data": {
      "text/html": [
       "<div>\n",
       "<style>\n",
       "    .dataframe thead tr:only-child th {\n",
       "        text-align: right;\n",
       "    }\n",
       "\n",
       "    .dataframe thead th {\n",
       "        text-align: left;\n",
       "    }\n",
       "\n",
       "    .dataframe tbody tr th {\n",
       "        vertical-align: top;\n",
       "    }\n",
       "</style>\n",
       "<table border=\"1\" class=\"dataframe\">\n",
       "  <thead>\n",
       "    <tr style=\"text-align: right;\">\n",
       "      <th></th>\n",
       "      <th>Number Survived</th>\n",
       "      <th>Number Lost</th>\n",
       "      <th>Total</th>\n",
       "      <th>Percent Survived</th>\n",
       "      <th>Percent Lost</th>\n",
       "    </tr>\n",
       "    <tr>\n",
       "      <th>NumPassWithSameTicket</th>\n",
       "      <th></th>\n",
       "      <th></th>\n",
       "      <th></th>\n",
       "      <th></th>\n",
       "      <th></th>\n",
       "    </tr>\n",
       "  </thead>\n",
       "  <tbody>\n",
       "    <tr>\n",
       "      <th>1</th>\n",
       "      <td>163</td>\n",
       "      <td>384</td>\n",
       "      <td>547</td>\n",
       "      <td>30</td>\n",
       "      <td>70</td>\n",
       "    </tr>\n",
       "    <tr>\n",
       "      <th>2</th>\n",
       "      <td>108</td>\n",
       "      <td>80</td>\n",
       "      <td>188</td>\n",
       "      <td>57</td>\n",
       "      <td>43</td>\n",
       "    </tr>\n",
       "    <tr>\n",
       "      <th>3</th>\n",
       "      <td>44</td>\n",
       "      <td>19</td>\n",
       "      <td>63</td>\n",
       "      <td>70</td>\n",
       "      <td>30</td>\n",
       "    </tr>\n",
       "    <tr>\n",
       "      <th>4</th>\n",
       "      <td>22</td>\n",
       "      <td>22</td>\n",
       "      <td>44</td>\n",
       "      <td>50</td>\n",
       "      <td>50</td>\n",
       "    </tr>\n",
       "    <tr>\n",
       "      <th>5</th>\n",
       "      <td>0</td>\n",
       "      <td>10</td>\n",
       "      <td>10</td>\n",
       "      <td>0</td>\n",
       "      <td>100</td>\n",
       "    </tr>\n",
       "    <tr>\n",
       "      <th>6</th>\n",
       "      <td>0</td>\n",
       "      <td>18</td>\n",
       "      <td>18</td>\n",
       "      <td>0</td>\n",
       "      <td>100</td>\n",
       "    </tr>\n",
       "    <tr>\n",
       "      <th>7</th>\n",
       "      <td>5</td>\n",
       "      <td>16</td>\n",
       "      <td>21</td>\n",
       "      <td>24</td>\n",
       "      <td>76</td>\n",
       "    </tr>\n",
       "  </tbody>\n",
       "</table>\n",
       "</div>"
      ],
      "text/plain": [
       "                       Number Survived  Number Lost  Total  Percent Survived  \\\n",
       "NumPassWithSameTicket                                                          \n",
       "1                                  163          384    547                30   \n",
       "2                                  108           80    188                57   \n",
       "3                                   44           19     63                70   \n",
       "4                                   22           22     44                50   \n",
       "5                                    0           10     10                 0   \n",
       "6                                    0           18     18                 0   \n",
       "7                                    5           16     21                24   \n",
       "\n",
       "                       Percent Lost  \n",
       "NumPassWithSameTicket                \n",
       "1                                70  \n",
       "2                                43  \n",
       "3                                30  \n",
       "4                                50  \n",
       "5                               100  \n",
       "6                               100  \n",
       "7                                76  "
      ]
     },
     "execution_count": 34,
     "metadata": {},
     "output_type": "execute_result"
    }
   ],
   "source": [
    "#create the table\n",
    "tb=createSurvivalTable(titanic_df,'NumPassWithSameTicket')\n",
    "#create the bar chart\n",
    "getBarChartOfNumberSurvived(tb,'Number Survived by Number Passengers with the Same Ticket ID',8.0,5.0, 'upper right')\n",
    "#show the graph\n",
    "plt.show()\n",
    "#print the table    \n",
    "tb"
   ]
  },
  {
   "cell_type": "markdown",
   "metadata": {},
   "source": [
    "This data also appears to have the same issues as the one above, so a similar check is preformed. The percent graph was emitted due to it being misleading."
   ]
  },
  {
   "cell_type": "code",
   "execution_count": 35,
   "metadata": {
    "collapsed": false
   },
   "outputs": [
    {
     "data": {
      "image/png": "[encoded data removed]",
      "text/plain": [
       "<matplotlib.figure.Figure at 0x1e65dcb6d68>"
      ]
     },
     "metadata": {},
     "output_type": "display_data"
    },
    {
     "data": {
      "image/png": "[encoded data removed]",
      "text/plain": [
       "<matplotlib.figure.Figure at 0x1e65da425f8>"
      ]
     },
     "metadata": {},
     "output_type": "display_data"
    },
    {
     "data": {
      "text/html": [
       "<div>\n",
       "<style>\n",
       "    .dataframe thead tr:only-child th {\n",
       "        text-align: right;\n",
       "    }\n",
       "\n",
       "    .dataframe thead th {\n",
       "        text-align: left;\n",
       "    }\n",
       "\n",
       "    .dataframe tbody tr th {\n",
       "        vertical-align: top;\n",
       "    }\n",
       "</style>\n",
       "<table border=\"1\" class=\"dataframe\">\n",
       "  <thead>\n",
       "    <tr style=\"text-align: right;\">\n",
       "      <th></th>\n",
       "      <th>Number Survived</th>\n",
       "      <th>Number Lost</th>\n",
       "      <th>Total</th>\n",
       "      <th>Percent Survived</th>\n",
       "      <th>Percent Lost</th>\n",
       "    </tr>\n",
       "    <tr>\n",
       "      <th>Has More than One Passenger with the same Ticket ID</th>\n",
       "      <th></th>\n",
       "      <th></th>\n",
       "      <th></th>\n",
       "      <th></th>\n",
       "      <th></th>\n",
       "    </tr>\n",
       "  </thead>\n",
       "  <tbody>\n",
       "    <tr>\n",
       "      <th>False</th>\n",
       "      <td>163</td>\n",
       "      <td>384</td>\n",
       "      <td>547</td>\n",
       "      <td>30</td>\n",
       "      <td>70</td>\n",
       "    </tr>\n",
       "    <tr>\n",
       "      <th>True</th>\n",
       "      <td>179</td>\n",
       "      <td>165</td>\n",
       "      <td>344</td>\n",
       "      <td>52</td>\n",
       "      <td>48</td>\n",
       "    </tr>\n",
       "  </tbody>\n",
       "</table>\n",
       "</div>"
      ],
      "text/plain": [
       "                                                    Number Survived  \\\n",
       "Has More than One Passenger with the same Ticke...                    \n",
       "False                                                           163   \n",
       "True                                                            179   \n",
       "\n",
       "                                                    Number Lost  Total  \\\n",
       "Has More than One Passenger with the same Ticke...                       \n",
       "False                                                       384    547   \n",
       "True                                                        165    344   \n",
       "\n",
       "                                                    Percent Survived  \\\n",
       "Has More than One Passenger with the same Ticke...                     \n",
       "False                                                             30   \n",
       "True                                                              52   \n",
       "\n",
       "                                                    Percent Lost  \n",
       "Has More than One Passenger with the same Ticke...                \n",
       "False                                                         70  \n",
       "True                                                          48  "
      ]
     },
     "execution_count": 35,
     "metadata": {},
     "output_type": "execute_result"
    }
   ],
   "source": [
    "#create new column\n",
    "titanic_df['Has More than One Passenger with the same Ticket ID'] = titanic_df['NumPassWithSameTicket'] > 1\n",
    "#create the table\n",
    "tb=createSurvivalTable(titanic_df,'Has More than One Passenger with the same Ticket ID')\n",
    "#create the bar chart\n",
    "getBarChartOfNumberSurvived(tb,'Has More than One Passenger with the same Ticket ID',6.0,5.0, 'upper right')\n",
    "getBarChartOfPercentSurvived(tb,'Has More than One Passenger with the same Ticket ID',6.0,5.0, 'upper right')\n",
    "#show the graph\n",
    "plt.show()\n",
    "#print the table    \n",
    "tb"
   ]
  },
  {
   "cell_type": "markdown",
   "metadata": {},
   "source": [
    "Again this is similar to the above data in that it appears better to use this simplified column in the next section. "
   ]
  },
  {
   "cell_type": "markdown",
   "metadata": {},
   "source": [
    "<h4  id=\"OneDimAge\">6.6 Age</h4>"
   ]
  },
  {
   "cell_type": "markdown",
   "metadata": {},
   "source": [
    "Age is a bit different from the previous data column due to the range of values that it can appear. In order better group the data it will be split into bins of ten. (ie 0-9,10-19 etc). It is also said that children were given priority for life rafts, so it could be expected that they would have higher survival rates. To examine this a new column \"Under18\" will be added. For the purposes of this analysis the fact that some of these ages are estimates will not be taken into account and the rows with missing data will not be used."
   ]
  },
  {
   "cell_type": "code",
   "execution_count": 36,
   "metadata": {
    "collapsed": false
   },
   "outputs": [
    {
     "data": {
      "image/png": "[encoded data removed]",
      "text/plain": [
       "<matplotlib.figure.Figure at 0x1e65d8e4128>"
      ]
     },
     "metadata": {},
     "output_type": "display_data"
    },
    {
     "data": {
      "image/png": "[encoded data removed]",
      "text/plain": [
       "<matplotlib.figure.Figure at 0x1e65ddf1b00>"
      ]
     },
     "metadata": {},
     "output_type": "display_data"
    },
    {
     "data": {
      "text/html": [
       "<div>\n",
       "<style>\n",
       "    .dataframe thead tr:only-child th {\n",
       "        text-align: right;\n",
       "    }\n",
       "\n",
       "    .dataframe thead th {\n",
       "        text-align: left;\n",
       "    }\n",
       "\n",
       "    .dataframe tbody tr th {\n",
       "        vertical-align: top;\n",
       "    }\n",
       "</style>\n",
       "<table border=\"1\" class=\"dataframe\">\n",
       "  <thead>\n",
       "    <tr style=\"text-align: right;\">\n",
       "      <th></th>\n",
       "      <th>Number Survived</th>\n",
       "      <th>Number Lost</th>\n",
       "      <th>Total</th>\n",
       "      <th>Percent Survived</th>\n",
       "      <th>Percent Lost</th>\n",
       "    </tr>\n",
       "    <tr>\n",
       "      <th>AgeGroups</th>\n",
       "      <th></th>\n",
       "      <th></th>\n",
       "      <th></th>\n",
       "      <th></th>\n",
       "      <th></th>\n",
       "    </tr>\n",
       "  </thead>\n",
       "  <tbody>\n",
       "    <tr>\n",
       "      <th>0-9</th>\n",
       "      <td>38</td>\n",
       "      <td>24</td>\n",
       "      <td>62</td>\n",
       "      <td>61</td>\n",
       "      <td>39</td>\n",
       "    </tr>\n",
       "    <tr>\n",
       "      <th>10-19</th>\n",
       "      <td>41</td>\n",
       "      <td>61</td>\n",
       "      <td>102</td>\n",
       "      <td>40</td>\n",
       "      <td>60</td>\n",
       "    </tr>\n",
       "    <tr>\n",
       "      <th>20-29</th>\n",
       "      <td>77</td>\n",
       "      <td>143</td>\n",
       "      <td>220</td>\n",
       "      <td>35</td>\n",
       "      <td>65</td>\n",
       "    </tr>\n",
       "    <tr>\n",
       "      <th>30-39</th>\n",
       "      <td>73</td>\n",
       "      <td>94</td>\n",
       "      <td>167</td>\n",
       "      <td>44</td>\n",
       "      <td>56</td>\n",
       "    </tr>\n",
       "    <tr>\n",
       "      <th>40-49</th>\n",
       "      <td>34</td>\n",
       "      <td>55</td>\n",
       "      <td>89</td>\n",
       "      <td>38</td>\n",
       "      <td>62</td>\n",
       "    </tr>\n",
       "    <tr>\n",
       "      <th>50-59</th>\n",
       "      <td>20</td>\n",
       "      <td>28</td>\n",
       "      <td>48</td>\n",
       "      <td>42</td>\n",
       "      <td>58</td>\n",
       "    </tr>\n",
       "    <tr>\n",
       "      <th>60-69</th>\n",
       "      <td>6</td>\n",
       "      <td>13</td>\n",
       "      <td>19</td>\n",
       "      <td>32</td>\n",
       "      <td>68</td>\n",
       "    </tr>\n",
       "    <tr>\n",
       "      <th>70-79</th>\n",
       "      <td>0</td>\n",
       "      <td>6</td>\n",
       "      <td>6</td>\n",
       "      <td>0</td>\n",
       "      <td>100</td>\n",
       "    </tr>\n",
       "    <tr>\n",
       "      <th>80-89</th>\n",
       "      <td>1</td>\n",
       "      <td>0</td>\n",
       "      <td>1</td>\n",
       "      <td>100</td>\n",
       "      <td>0</td>\n",
       "    </tr>\n",
       "  </tbody>\n",
       "</table>\n",
       "</div>"
      ],
      "text/plain": [
       "           Number Survived  Number Lost  Total  Percent Survived  Percent Lost\n",
       "AgeGroups                                                                     \n",
       "0-9                     38           24     62                61            39\n",
       "10-19                   41           61    102                40            60\n",
       "20-29                   77          143    220                35            65\n",
       "30-39                   73           94    167                44            56\n",
       "40-49                   34           55     89                38            62\n",
       "50-59                   20           28     48                42            58\n",
       "60-69                    6           13     19                32            68\n",
       "70-79                    0            6      6                 0           100\n",
       "80-89                    1            0      1               100             0"
      ]
     },
     "execution_count": 36,
     "metadata": {},
     "output_type": "execute_result"
    }
   ],
   "source": [
    "titanic_df['AgeGroups']= titanic_df['Age'].apply(setAgeGroups)\n",
    "#creat the table\n",
    "tb=createSurvivalTable(titanic_df,'AgeGroups')\n",
    "#create the bar chart\n",
    "getBarChartOfNumberSurvived(tb,'Number Survived by Age Group',15.0,5.0, 'upper left')\n",
    "getBarChartOfPercentSurvived(tb,'Percent Survived by Age Group',15.0,5.0, 'upper left')\n",
    "#show the graph\n",
    "plt.show()\n",
    "#print the table    \n",
    "tb"
   ]
  },
  {
   "cell_type": "markdown",
   "metadata": {},
   "source": [
    "Aside from the ages 0-9 and 70+ the survival rates seem to be similar. 70+ though can be explained from the fact that there is so little data for them. It appears that children where more likely to survive. Therefore it makes more sense to seperate the data out into children and non-children. Everyone under 18 will be considered a child and everyone else an adult."
   ]
  },
  {
   "cell_type": "code",
   "execution_count": 37,
   "metadata": {
    "collapsed": false
   },
   "outputs": [
    {
     "data": {
      "image/png": "[encoded data removed]",
      "text/plain": [
       "<matplotlib.figure.Figure at 0x1e65c7db5f8>"
      ]
     },
     "metadata": {},
     "output_type": "display_data"
    },
    {
     "data": {
      "image/png": "[encoded data removed]",
      "text/plain": [
       "<matplotlib.figure.Figure at 0x1e65da26278>"
      ]
     },
     "metadata": {},
     "output_type": "display_data"
    },
    {
     "data": {
      "text/html": [
       "<div>\n",
       "<style>\n",
       "    .dataframe thead tr:only-child th {\n",
       "        text-align: right;\n",
       "    }\n",
       "\n",
       "    .dataframe thead th {\n",
       "        text-align: left;\n",
       "    }\n",
       "\n",
       "    .dataframe tbody tr th {\n",
       "        vertical-align: top;\n",
       "    }\n",
       "</style>\n",
       "<table border=\"1\" class=\"dataframe\">\n",
       "  <thead>\n",
       "    <tr style=\"text-align: right;\">\n",
       "      <th></th>\n",
       "      <th>Number Survived</th>\n",
       "      <th>Number Lost</th>\n",
       "      <th>Total</th>\n",
       "      <th>Percent Survived</th>\n",
       "      <th>Percent Lost</th>\n",
       "    </tr>\n",
       "    <tr>\n",
       "      <th>Under18</th>\n",
       "      <th></th>\n",
       "      <th></th>\n",
       "      <th></th>\n",
       "      <th></th>\n",
       "      <th></th>\n",
       "    </tr>\n",
       "  </thead>\n",
       "  <tbody>\n",
       "    <tr>\n",
       "      <th>18 or Older</th>\n",
       "      <td>281</td>\n",
       "      <td>497</td>\n",
       "      <td>778</td>\n",
       "      <td>36</td>\n",
       "      <td>64</td>\n",
       "    </tr>\n",
       "    <tr>\n",
       "      <th>Under 18</th>\n",
       "      <td>61</td>\n",
       "      <td>52</td>\n",
       "      <td>113</td>\n",
       "      <td>54</td>\n",
       "      <td>46</td>\n",
       "    </tr>\n",
       "  </tbody>\n",
       "</table>\n",
       "</div>"
      ],
      "text/plain": [
       "             Number Survived  Number Lost  Total  Percent Survived  \\\n",
       "Under18                                                              \n",
       "18 or Older              281          497    778                36   \n",
       "Under 18                  61           52    113                54   \n",
       "\n",
       "             Percent Lost  \n",
       "Under18                    \n",
       "18 or Older            64  \n",
       "Under 18               46  "
      ]
     },
     "execution_count": 37,
     "metadata": {},
     "output_type": "execute_result"
    }
   ],
   "source": [
    "titanic_df['Under18'] = titanic_df['Age'].apply(setUnderXAgeText, args=(18,))\n",
    "#create the table\n",
    "tb=createSurvivalTable(titanic_df,'Under18')\n",
    "#create the bar chart\n",
    "getBarChartOfNumberSurvived(tb,'Number Survived by Under18',10.0,5.0, 'upper left')\n",
    "getBarChartOfPercentSurvived(tb,'Percent Survived by Under18',10.0,5.0, 'upper left')\n",
    "#show the graph\n",
    "plt.show()\n",
    "#print the table    \n",
    "tb"
   ]
  },
  {
   "cell_type": "markdown",
   "metadata": {},
   "source": [
    "Examining the above it appears that there might be a correlation between those who are children and those who are not. This will be examined more in the next section."
   ]
  },
  {
   "cell_type": "markdown",
   "metadata": {},
   "source": [
    "<h4 id=\"OneDimFare\">6.7 Fare</h4>\n",
    "The fare has the same issues as age since it is a continous variable. However, it is more difficult to split up than age as there is no easy way to decide the bin size. In order to determine bin size a summary of the Fare data will be printed out"
   ]
  },
  {
   "cell_type": "code",
   "execution_count": 38,
   "metadata": {
    "collapsed": false
   },
   "outputs": [
    {
     "data": {
      "text/html": [
       "<div>\n",
       "<style>\n",
       "    .dataframe thead tr:only-child th {\n",
       "        text-align: right;\n",
       "    }\n",
       "\n",
       "    .dataframe thead th {\n",
       "        text-align: left;\n",
       "    }\n",
       "\n",
       "    .dataframe tbody tr th {\n",
       "        vertical-align: top;\n",
       "    }\n",
       "</style>\n",
       "<table border=\"1\" class=\"dataframe\">\n",
       "  <thead>\n",
       "    <tr style=\"text-align: right;\">\n",
       "      <th></th>\n",
       "      <th>Fare</th>\n",
       "    </tr>\n",
       "  </thead>\n",
       "  <tbody>\n",
       "    <tr>\n",
       "      <th>count</th>\n",
       "      <td>891</td>\n",
       "    </tr>\n",
       "    <tr>\n",
       "      <th>mean</th>\n",
       "      <td>32</td>\n",
       "    </tr>\n",
       "    <tr>\n",
       "      <th>std</th>\n",
       "      <td>50</td>\n",
       "    </tr>\n",
       "    <tr>\n",
       "      <th>min</th>\n",
       "      <td>0</td>\n",
       "    </tr>\n",
       "    <tr>\n",
       "      <th>25%</th>\n",
       "      <td>8</td>\n",
       "    </tr>\n",
       "    <tr>\n",
       "      <th>50%</th>\n",
       "      <td>14</td>\n",
       "    </tr>\n",
       "    <tr>\n",
       "      <th>75%</th>\n",
       "      <td>31</td>\n",
       "    </tr>\n",
       "    <tr>\n",
       "      <th>max</th>\n",
       "      <td>512</td>\n",
       "    </tr>\n",
       "  </tbody>\n",
       "</table>\n",
       "</div>"
      ],
      "text/plain": [
       "       Fare\n",
       "count   891\n",
       "mean     32\n",
       "std      50\n",
       "min       0\n",
       "25%       8\n",
       "50%      14\n",
       "75%      31\n",
       "max     512"
      ]
     },
     "execution_count": 38,
     "metadata": {},
     "output_type": "execute_result"
    }
   ],
   "source": [
    "pd.DataFrame(titanic_df['Fare'].describe())"
   ]
  },
  {
   "cell_type": "markdown",
   "metadata": {
    "collapsed": true
   },
   "source": [
    "The descriptive statistics above indicate that there is a farely wide range of fares that are skewed to the left. Due to the skewing of this data using the standard deviation would not be efficent to use. Instead the data will be split up by percentiles of 10%."
   ]
  },
  {
   "cell_type": "code",
   "execution_count": 39,
   "metadata": {
    "collapsed": false
   },
   "outputs": [
    {
     "data": {
      "image/png": "[encoded data removed]",
      "text/plain": [
       "<matplotlib.figure.Figure at 0x1e65dbf1898>"
      ]
     },
     "metadata": {},
     "output_type": "display_data"
    },
    {
     "data": {
      "image/png": "[encoded data removed]",
      "text/plain": [
       "<matplotlib.figure.Figure at 0x1e65c6d4550>"
      ]
     },
     "metadata": {},
     "output_type": "display_data"
    },
    {
     "data": {
      "text/html": [
       "<div>\n",
       "<style>\n",
       "    .dataframe thead tr:only-child th {\n",
       "        text-align: right;\n",
       "    }\n",
       "\n",
       "    .dataframe thead th {\n",
       "        text-align: left;\n",
       "    }\n",
       "\n",
       "    .dataframe tbody tr th {\n",
       "        vertical-align: top;\n",
       "    }\n",
       "</style>\n",
       "<table border=\"1\" class=\"dataframe\">\n",
       "  <thead>\n",
       "    <tr style=\"text-align: right;\">\n",
       "      <th></th>\n",
       "      <th>Number Survived</th>\n",
       "      <th>Number Lost</th>\n",
       "      <th>Total</th>\n",
       "      <th>Percent Survived</th>\n",
       "      <th>Percent Lost</th>\n",
       "    </tr>\n",
       "    <tr>\n",
       "      <th>FarePercentiles</th>\n",
       "      <th></th>\n",
       "      <th></th>\n",
       "      <th></th>\n",
       "      <th></th>\n",
       "      <th></th>\n",
       "    </tr>\n",
       "  </thead>\n",
       "  <tbody>\n",
       "    <tr>\n",
       "      <th>0-10%</th>\n",
       "      <td>13</td>\n",
       "      <td>79</td>\n",
       "      <td>92</td>\n",
       "      <td>14</td>\n",
       "      <td>86</td>\n",
       "    </tr>\n",
       "    <tr>\n",
       "      <th>10-20%</th>\n",
       "      <td>26</td>\n",
       "      <td>61</td>\n",
       "      <td>87</td>\n",
       "      <td>30</td>\n",
       "      <td>70</td>\n",
       "    </tr>\n",
       "    <tr>\n",
       "      <th>20-30%</th>\n",
       "      <td>19</td>\n",
       "      <td>87</td>\n",
       "      <td>106</td>\n",
       "      <td>18</td>\n",
       "      <td>82</td>\n",
       "    </tr>\n",
       "    <tr>\n",
       "      <th>30-40%</th>\n",
       "      <td>18</td>\n",
       "      <td>60</td>\n",
       "      <td>78</td>\n",
       "      <td>23</td>\n",
       "      <td>77</td>\n",
       "    </tr>\n",
       "    <tr>\n",
       "      <th>40-50%</th>\n",
       "      <td>36</td>\n",
       "      <td>48</td>\n",
       "      <td>84</td>\n",
       "      <td>43</td>\n",
       "      <td>57</td>\n",
       "    </tr>\n",
       "    <tr>\n",
       "      <th>50-60%</th>\n",
       "      <td>37</td>\n",
       "      <td>51</td>\n",
       "      <td>88</td>\n",
       "      <td>42</td>\n",
       "      <td>58</td>\n",
       "    </tr>\n",
       "    <tr>\n",
       "      <th>60-70%</th>\n",
       "      <td>46</td>\n",
       "      <td>43</td>\n",
       "      <td>89</td>\n",
       "      <td>52</td>\n",
       "      <td>48</td>\n",
       "    </tr>\n",
       "    <tr>\n",
       "      <th>70-80%</th>\n",
       "      <td>34</td>\n",
       "      <td>57</td>\n",
       "      <td>91</td>\n",
       "      <td>37</td>\n",
       "      <td>63</td>\n",
       "    </tr>\n",
       "    <tr>\n",
       "      <th>80-90%</th>\n",
       "      <td>47</td>\n",
       "      <td>42</td>\n",
       "      <td>89</td>\n",
       "      <td>53</td>\n",
       "      <td>47</td>\n",
       "    </tr>\n",
       "    <tr>\n",
       "      <th>90-100%</th>\n",
       "      <td>66</td>\n",
       "      <td>21</td>\n",
       "      <td>87</td>\n",
       "      <td>76</td>\n",
       "      <td>24</td>\n",
       "    </tr>\n",
       "  </tbody>\n",
       "</table>\n",
       "</div>"
      ],
      "text/plain": [
       "                 Number Survived  Number Lost  Total  Percent Survived  \\\n",
       "FarePercentiles                                                          \n",
       "0-10%                         13           79     92                14   \n",
       "10-20%                        26           61     87                30   \n",
       "20-30%                        19           87    106                18   \n",
       "30-40%                        18           60     78                23   \n",
       "40-50%                        36           48     84                43   \n",
       "50-60%                        37           51     88                42   \n",
       "60-70%                        46           43     89                52   \n",
       "70-80%                        34           57     91                37   \n",
       "80-90%                        47           42     89                53   \n",
       "90-100%                       66           21     87                76   \n",
       "\n",
       "                 Percent Lost  \n",
       "FarePercentiles                \n",
       "0-10%                      86  \n",
       "10-20%                     70  \n",
       "20-30%                     82  \n",
       "30-40%                     77  \n",
       "40-50%                     57  \n",
       "50-60%                     58  \n",
       "60-70%                     48  \n",
       "70-80%                     63  \n",
       "80-90%                     47  \n",
       "90-100%                    24  "
      ]
     },
     "execution_count": 39,
     "metadata": {},
     "output_type": "execute_result"
    }
   ],
   "source": [
    "percentiles = [.1,.2,.3,.4,.5,.6,.7,.8,.9,1]\n",
    "titanic_df['FarePercentiles'] = titanic_df['Fare'].apply(setCreatePercentilesCol, args=(percentiles, titanic_df['Fare'],))\n",
    "\n",
    "#create the table\n",
    "tb=createSurvivalTable(titanic_df,'FarePercentiles')\n",
    "#create the bar chart\n",
    "getBarChartOfNumberSurvived(tb,'Number Survived by Fare Percentiles',15.0,5.0, 'upper right')\n",
    "getBarChartOfPercentSurvived(tb,'Percent Survived by Fare Percentiles',15.0,5.0, 'upper right')\n",
    "#show the graph\n",
    "plt.show()\n",
    "#print the table    \n",
    "tb"
   ]
  },
  {
   "cell_type": "markdown",
   "metadata": {},
   "source": [
    "As shown in the table and graphs it appears that those who paid in the lowest 40% were less likely to survive. The results seem to indicate the same message as the pclass column where the richer a passenger the more likely they are to survive."
   ]
  },
  {
   "cell_type": "markdown",
   "metadata": {},
   "source": [
    "<h4  id=\"OneDimEmbarked\">6.8 Embarked</h4>\n",
    "The two rows with missing vlaues will not be used in this section. "
   ]
  },
  {
   "cell_type": "code",
   "execution_count": 40,
   "metadata": {
    "collapsed": false
   },
   "outputs": [
    {
     "data": {
      "image/png": "[encoded data removed]",
      "text/plain": [
       "<matplotlib.figure.Figure at 0x1e65c68ec18>"
      ]
     },
     "metadata": {},
     "output_type": "display_data"
    },
    {
     "data": {
      "image/png": "[encoded data removed]",
      "text/plain": [
       "<matplotlib.figure.Figure at 0x1e65d945ef0>"
      ]
     },
     "metadata": {},
     "output_type": "display_data"
    },
    {
     "data": {
      "text/html": [
       "<div>\n",
       "<style>\n",
       "    .dataframe thead tr:only-child th {\n",
       "        text-align: right;\n",
       "    }\n",
       "\n",
       "    .dataframe thead th {\n",
       "        text-align: left;\n",
       "    }\n",
       "\n",
       "    .dataframe tbody tr th {\n",
       "        vertical-align: top;\n",
       "    }\n",
       "</style>\n",
       "<table border=\"1\" class=\"dataframe\">\n",
       "  <thead>\n",
       "    <tr style=\"text-align: right;\">\n",
       "      <th></th>\n",
       "      <th>Number Survived</th>\n",
       "      <th>Number Lost</th>\n",
       "      <th>Total</th>\n",
       "      <th>Percent Survived</th>\n",
       "      <th>Percent Lost</th>\n",
       "    </tr>\n",
       "    <tr>\n",
       "      <th>Embarked</th>\n",
       "      <th></th>\n",
       "      <th></th>\n",
       "      <th></th>\n",
       "      <th></th>\n",
       "      <th></th>\n",
       "    </tr>\n",
       "  </thead>\n",
       "  <tbody>\n",
       "    <tr>\n",
       "      <th>C</th>\n",
       "      <td>93</td>\n",
       "      <td>75</td>\n",
       "      <td>168</td>\n",
       "      <td>55</td>\n",
       "      <td>45</td>\n",
       "    </tr>\n",
       "    <tr>\n",
       "      <th>Q</th>\n",
       "      <td>30</td>\n",
       "      <td>47</td>\n",
       "      <td>77</td>\n",
       "      <td>39</td>\n",
       "      <td>61</td>\n",
       "    </tr>\n",
       "    <tr>\n",
       "      <th>S</th>\n",
       "      <td>217</td>\n",
       "      <td>427</td>\n",
       "      <td>644</td>\n",
       "      <td>34</td>\n",
       "      <td>66</td>\n",
       "    </tr>\n",
       "  </tbody>\n",
       "</table>\n",
       "</div>"
      ],
      "text/plain": [
       "          Number Survived  Number Lost  Total  Percent Survived  Percent Lost\n",
       "Embarked                                                                     \n",
       "C                      93           75    168                55            45\n",
       "Q                      30           47     77                39            61\n",
       "S                     217          427    644                34            66"
      ]
     },
     "execution_count": 40,
     "metadata": {},
     "output_type": "execute_result"
    }
   ],
   "source": [
    "#create the table\n",
    "tb=createSurvivalTable(titanic_df,'Embarked')\n",
    "#create the bar chart\n",
    "getBarChartOfNumberSurvived(tb,'Number Survived by Embarked',10.0,5.0, 'upper left')\n",
    "getBarChartOfPercentSurvived(tb,'Percent Survived by Embarked',10.0,5.0, 'upper left')\n",
    "#show the graph\n",
    "plt.show()\n",
    "#print the table    \n",
    "tb"
   ]
  },
  {
   "cell_type": "markdown",
   "metadata": {},
   "source": [
    "The appearance of the above data suggests that the location of Embarkment may also have something to do with the survival rate."
   ]
  },
  {
   "cell_type": "markdown",
   "metadata": {
    "collapsed": true
   },
   "source": [
    "<h4  id=\"OneDimSectionSummary\">6.9 Section Summary</h4>\n",
    "The following is a brief summary of what was seen above.\n",
    "* Pclass by Survival - The data suggests that the higher the Pclass the more likely a passenger was to survive. (The highest is Pclass 1) \n",
    "* Sex by Survival - The data suggests that woman were more likely to survive the titanic. \n",
    "* SibSp by Survival - This data suggests that passengers that have at least one SibSp were more likely to survive than those that don't. \n",
    "* Parch by Survival - This data suggests that passengers that have at least one Parch were more likely to survive than those that don't.\n",
    "* Number Passengers with the Same Ticket ID - This data suggests that passengers that have at least one other passenger with the same ticket ID were more likely to survive.\n",
    "* Age by Survival - This data suggests that passengers under the age of 18 were more likely to survive than those who are older. \n",
    "* Fare by Survival - This data suggests that those that are in the top 50% of the fare price were more likely to survive.\n",
    "* Embarked by Survival - This data suggest that if the passenger embarked from Cherbourg they were more likely to survive. \n",
    "\n",
    "Looking at the data it is possible to loosely rank these traits in this order based on percent survived in this data set: \n",
    "1. Fare - Those that paid in the top 10% of fares. (76% survived)\n",
    "2. Sex - Women (75% survived)\n",
    "3. Pclass - 1 (63% survived)\n",
    "4. Embarked - Cherbourg (55% survived)\n",
    "5. Age - Passengers Under 18 (54% survived)\n",
    "6. Number of Passengers with the Same Ticket ID - Passengers that have at least one other passenger with the same ticket ID (52% survived)\n",
    "7. Parch - Those that have at least one Parch (51% survived)\n",
    "8. SibSp - Those that have at least one SibSp (47% survived)\n",
    "\n",
    "or they can be losely arranged by the total number that survived\n",
    "1. Age - Passengers over Under 18 (281 survived)\n",
    "2. Sex - Women (233 survived) \n",
    "2. Parch - Those that dont have a Parch (233 survived)\n",
    "3. Embarked - Southampton (217 survived)\n",
    "4. SibSp - Those that don't have a SibSp (210 survived)\n",
    "5. Number of Passengers with the Same Ticket ID - Passengers that have no other passengers with the same ticket ID (163 survived)\n",
    "6. Pclass - 1 (136 survived)\n",
    "7. Fare - Those that paid in the top 10% of fares. (66 survived)"
   ]
  },
  {
   "cell_type": "markdown",
   "metadata": {
    "collapsed": true
   },
   "source": [
    "<h3 id=\"MultiDimIntro\">7. Multi-Dimensional Analysis of Columns By Survival</h3>\n",
    "This section will examine how the factors outlined in the summary in section 6 interact with each other and survival rate. This will be examined in two different ways. The first two ways will use percent survived as the basis of picking traits while the second two will use the total number of survived. (Both are outlined in section 5.9) These two catagories will be looked at by examining the survival rate against the number of traits a passenger has.\n",
    "\n",
    "In order to easly accomplish this a new table will be created with the traits in binary. True for having and False for not having the trait. "
   ]
  },
  {
   "cell_type": "code",
   "execution_count": 66,
   "metadata": {
    "collapsed": true
   },
   "outputs": [],
   "source": [
    "#create a new table with only the columns that are needed\n",
    "hasTrait = titanic_df[['PassengerId','Survived','FarePercentiles', 'Sex','Pclass', 'Embarked','Under18','Has Parch','Has SibSp',\n",
    "                       'Has More than One Passenger with the same Ticket ID']]\n",
    "#Change the variables that need to be changed to true and false\n",
    "hasTrait = pd.DataFrame(hasTrait)\n",
    "hasTrait['FarePercentilesAt90_100'] = hasTrait['FarePercentiles'] == \"90-100%\"\n",
    "hasTrait['sexFemale'] = hasTrait['Sex'] == \"female\"\n",
    "hasTrait['Pclass1'] = (hasTrait['Pclass'] == 1)\n",
    "hasTrait['EmbarkedC'] = hasTrait['Embarked'] == \"C\"\n",
    "hasTrait['IsUnder18'] = hasTrait['Under18'] != \"18 or Older\"\n",
    "hasTrait['Is18orOlder'] = hasTrait['Under18'] == \"18 or Older\"\n",
    "hasTrait['EmbarkedS'] = hasTrait['Embarked'] == \"S\"\n",
    "hasTrait['One Passenger with the Ticket ID'] = hasTrait['Has More than One Passenger with the same Ticket ID'] == False\n",
    "hasTrait['NoParch'] = hasTrait['Has Parch']  == False\n",
    "hasTrait['NoSibSp'] = hasTrait['Has SibSp']  == False\n",
    "\n",
    "#identify only the columns that were turned into true and false\n",
    "hasTrait = pd.DataFrame(hasTrait[['PassengerId','Survived','FarePercentilesAt90_100', 'sexFemale','Pclass1', 'EmbarkedC',\n",
    "                        'IsUnder18','Has Parch','Has SibSp',\n",
    "                        'Has More than One Passenger with the same Ticket ID', 'Is18orOlder','EmbarkedS',\n",
    "                                  'One Passenger with the Ticket ID', 'NoParch', 'NoSibSp']])\n",
    "\n",
    "hasTrait['howManyTraitsByPerc'] = hasTrait['FarePercentilesAt90_100'].astype(int) +  hasTrait['Pclass1'].astype(int) + hasTrait['sexFemale'].astype(int) +  hasTrait['EmbarkedC'].astype(int) +  hasTrait['IsUnder18'].astype(int) +hasTrait['Has Parch'].astype(int) +  hasTrait['Has SibSp'].astype(int) + hasTrait['Has More than One Passenger with the same Ticket ID'].astype(int)\n",
    "hasTrait['howManyTraitsByTotal'] = hasTrait['FarePercentilesAt90_100'].astype(int) +  hasTrait['Pclass1'].astype(int) + hasTrait['sexFemale'].astype(int) +  hasTrait['EmbarkedS'].astype(int) +  hasTrait['Is18orOlder'].astype(int) +hasTrait['NoParch'].astype(int) +  hasTrait['NoSibSp'].astype(int) + hasTrait['One Passenger with the Ticket ID'].astype(int)\n"
   ]
  },
  {
   "cell_type": "markdown",
   "metadata": {},
   "source": [
    "<h4 id=\"MultiDimFunctions\">7.0 Functions</h4>"
   ]
  },
  {
   "cell_type": "code",
   "execution_count": 67,
   "metadata": {
    "collapsed": true
   },
   "outputs": [],
   "source": [
    "#Note: This section will make use of the createSurvivalTable that was created in the last section"
   ]
  },
  {
   "cell_type": "code",
   "execution_count": 68,
   "metadata": {
    "collapsed": true
   },
   "outputs": [],
   "source": [
    "def createTotalSurvivalRatebyTraitPlot(df, chartTitle):\n",
    "    #Summary:Gives a a line chart of the total survival rate by the number of traits a passenger has\n",
    "    #input:\n",
    "        #df - A pd dataframe of the count of the passangers grouped by survived and the number of traits they have\n",
    "        #chartTitle - The title of the chart\n",
    "    #output: A line chart of the survial rate by the number of traits a passenger has\n",
    "    plt.plot(tb.index, tb['Number Survived'], marker='o')\n",
    "    plt.plot(tb.index, tb['Number Lost'], marker='o')\n",
    "    plt.title(\"Total Number of Traits vs Suvival Rate\")\n",
    "    plt.xticks([0, 1, 2, 3,4,5,6,7,8])\n",
    "    plt.legend()\n",
    "    \n"
   ]
  },
  {
   "cell_type": "code",
   "execution_count": 69,
   "metadata": {
    "collapsed": true
   },
   "outputs": [],
   "source": [
    "def createPercSurvivalRatebyTraitPlot(df, chartTitle):\n",
    "    #Summary:Gives a a line chart of the percent survival rate by the number of traits a passenger has\n",
    "    #input:\n",
    "        #df - A pd dataframe of the count of the passangers grouped by survived and the number of traits they have\n",
    "        #chartTitle - The title of the chart\n",
    "    #output: A line chart of the survial rate by the number of traits a passenger has\n",
    "    plt.plot(tb.index, tb['Percent Survived'], marker='o')\n",
    "    plt.plot(tb.index, tb['Percent Lost'], marker='o')\n",
    "    plt.title(\"Number of Traits vs Suvival Rate by Percent\")\n",
    "    plt.xticks([0, 1, 2, 3,4,5,6,7,8])\n",
    "    plt.legend()"
   ]
  },
  {
   "cell_type": "markdown",
   "metadata": {},
   "source": [
    "<h4 id=\"MultiDimPercTraitsPerc\">7.1 Total Number of Traits a Passenger has (Traits based on Percent)</h4>"
   ]
  },
  {
   "cell_type": "code",
   "execution_count": 70,
   "metadata": {
    "collapsed": false
   },
   "outputs": [
    {
     "data": {
      "image/png": "[encoded data removed]",
      "text/plain": [
       "<matplotlib.figure.Figure at 0x1e65daf6908>"
      ]
     },
     "metadata": {},
     "output_type": "display_data"
    },
    {
     "data": {
      "image/png": "[encoded data removed]",
      "text/plain": [
       "<matplotlib.figure.Figure at 0x1e65c6b16d8>"
      ]
     },
     "metadata": {},
     "output_type": "display_data"
    },
    {
     "data": {
      "text/html": [
       "<div>\n",
       "<style>\n",
       "    .dataframe thead tr:only-child th {\n",
       "        text-align: right;\n",
       "    }\n",
       "\n",
       "    .dataframe thead th {\n",
       "        text-align: left;\n",
       "    }\n",
       "\n",
       "    .dataframe tbody tr th {\n",
       "        vertical-align: top;\n",
       "    }\n",
       "</style>\n",
       "<table border=\"1\" class=\"dataframe\">\n",
       "  <thead>\n",
       "    <tr style=\"text-align: right;\">\n",
       "      <th></th>\n",
       "      <th>Number Survived</th>\n",
       "      <th>Number Lost</th>\n",
       "      <th>Total</th>\n",
       "      <th>Percent Survived</th>\n",
       "      <th>Percent Lost</th>\n",
       "    </tr>\n",
       "    <tr>\n",
       "      <th>howManyTraitsByPerc</th>\n",
       "      <th></th>\n",
       "      <th></th>\n",
       "      <th></th>\n",
       "      <th></th>\n",
       "      <th></th>\n",
       "    </tr>\n",
       "  </thead>\n",
       "  <tbody>\n",
       "    <tr>\n",
       "      <th>0</th>\n",
       "      <td>26</td>\n",
       "      <td>233</td>\n",
       "      <td>259</td>\n",
       "      <td>10</td>\n",
       "      <td>90</td>\n",
       "    </tr>\n",
       "    <tr>\n",
       "      <th>1</th>\n",
       "      <td>83</td>\n",
       "      <td>136</td>\n",
       "      <td>219</td>\n",
       "      <td>38</td>\n",
       "      <td>62</td>\n",
       "    </tr>\n",
       "    <tr>\n",
       "      <th>2</th>\n",
       "      <td>34</td>\n",
       "      <td>55</td>\n",
       "      <td>89</td>\n",
       "      <td>38</td>\n",
       "      <td>62</td>\n",
       "    </tr>\n",
       "    <tr>\n",
       "      <th>3</th>\n",
       "      <td>49</td>\n",
       "      <td>45</td>\n",
       "      <td>94</td>\n",
       "      <td>52</td>\n",
       "      <td>48</td>\n",
       "    </tr>\n",
       "    <tr>\n",
       "      <th>4</th>\n",
       "      <td>78</td>\n",
       "      <td>57</td>\n",
       "      <td>135</td>\n",
       "      <td>58</td>\n",
       "      <td>42</td>\n",
       "    </tr>\n",
       "    <tr>\n",
       "      <th>5</th>\n",
       "      <td>39</td>\n",
       "      <td>19</td>\n",
       "      <td>58</td>\n",
       "      <td>67</td>\n",
       "      <td>33</td>\n",
       "    </tr>\n",
       "    <tr>\n",
       "      <th>6</th>\n",
       "      <td>27</td>\n",
       "      <td>3</td>\n",
       "      <td>30</td>\n",
       "      <td>90</td>\n",
       "      <td>10</td>\n",
       "    </tr>\n",
       "    <tr>\n",
       "      <th>7</th>\n",
       "      <td>6</td>\n",
       "      <td>1</td>\n",
       "      <td>7</td>\n",
       "      <td>86</td>\n",
       "      <td>14</td>\n",
       "    </tr>\n",
       "  </tbody>\n",
       "</table>\n",
       "</div>"
      ],
      "text/plain": [
       "                     Number Survived  Number Lost  Total  Percent Survived  \\\n",
       "howManyTraitsByPerc                                                          \n",
       "0                                 26          233    259                10   \n",
       "1                                 83          136    219                38   \n",
       "2                                 34           55     89                38   \n",
       "3                                 49           45     94                52   \n",
       "4                                 78           57    135                58   \n",
       "5                                 39           19     58                67   \n",
       "6                                 27            3     30                90   \n",
       "7                                  6            1      7                86   \n",
       "\n",
       "                     Percent Lost  \n",
       "howManyTraitsByPerc                \n",
       "0                              90  \n",
       "1                              62  \n",
       "2                              62  \n",
       "3                              48  \n",
       "4                              42  \n",
       "5                              33  \n",
       "6                              10  \n",
       "7                              14  "
      ]
     },
     "execution_count": 70,
     "metadata": {},
     "output_type": "execute_result"
    }
   ],
   "source": [
    "#create the table\n",
    "tb=createSurvivalTable(hasTrait,'howManyTraitsByPerc')\n",
    "createTotalSurvivalRatebyTraitPlot(tb, \"Totals\")\n",
    "plt.show()\n",
    "createPercSurvivalRatebyTraitPlot(tb, \"Percents\")\n",
    "plt.show()\n",
    "\n",
    "tb"
   ]
  },
  {
   "cell_type": "markdown",
   "metadata": {},
   "source": [
    "As expected the more traits that a passenger has from this set of traits the more likely they were to survive. This looks like it might be a positive regression, so it makes sense to apply a multi-variable linear regression to these traits."
   ]
  },
  {
   "cell_type": "code",
   "execution_count": 71,
   "metadata": {
    "collapsed": false
   },
   "outputs": [
    {
     "name": "stdout",
     "output_type": "stream",
     "text": [
      "                            OLS Regression Results                            \n",
      "==============================================================================\n",
      "Dep. Variable:               Survived   R-squared:                       0.594\n",
      "Model:                            OLS   Adj. R-squared:                  0.590\n",
      "Method:                 Least Squares   F-statistic:                     161.2\n",
      "Date:                Mon, 18 Sep 2017   Prob (F-statistic):          6.54e-167\n",
      "Time:                        21:34:02   Log-Likelihood:                -436.50\n",
      "No. Observations:                 891   AIC:                             889.0\n",
      "Df Residuals:                     883   BIC:                             927.3\n",
      "Df Model:                           8                                         \n",
      "Covariance Type:            nonrobust                                         \n",
      "=======================================================================================================================\n",
      "                                                          coef    std err          t      P>|t|      [0.025      0.975]\n",
      "-----------------------------------------------------------------------------------------------------------------------\n",
      "FarePercentilesAt90_100                                -0.0532      0.058     -0.921      0.357      -0.167       0.060\n",
      "sexFemale                                               0.5722      0.028     20.517      0.000       0.517       0.627\n",
      "Pclass1                                                 0.3204      0.037      8.558      0.000       0.247       0.394\n",
      "EmbarkedC                                               0.1056      0.035      2.997      0.003       0.036       0.175\n",
      "IsUnder18                                               0.1786      0.045      3.977      0.000       0.090       0.267\n",
      "Has Parch                                              -0.0287      0.040     -0.720      0.472      -0.107       0.050\n",
      "Has SibSp                                              -0.0025      0.034     -0.074      0.941      -0.069       0.064\n",
      "Has More than One Passenger with the same Ticket ID     0.0692      0.037      1.850      0.065      -0.004       0.143\n",
      "==============================================================================\n",
      "Omnibus:                       21.336   Durbin-Watson:                   1.937\n",
      "Prob(Omnibus):                  0.000   Jarque-Bera (JB):               22.742\n",
      "Skew:                           0.349   Prob(JB):                     1.15e-05\n",
      "Kurtosis:                       3.355   Cond. No.                         4.79\n",
      "==============================================================================\n",
      "\n",
      "Warnings:\n",
      "[1] Standard Errors assume that the covariance matrix of the errors is correctly specified.\n"
     ]
    }
   ],
   "source": [
    "#get the traits\n",
    "X=hasTrait[[\"FarePercentilesAt90_100\", \"sexFemale\", \"Pclass1\", \"EmbarkedC\",\"IsUnder18\",\"Has Parch\",\"Has SibSp\",\n",
    "                        \"Has More than One Passenger with the same Ticket ID\"]] \n",
    "Y=hasTrait['Survived'] \n",
    "model = sm.OLS(Y,X)\n",
    "#\n",
    "results = model.fit()\n",
    "print(results.summary())"
   ]
  },
  {
   "cell_type": "markdown",
   "metadata": {
    "collapsed": true
   },
   "source": [
    "The model details provided above show that a female is 57% more likely to survive than a male, on average, all else equal. It also indicates a positive correlation for being in Pclass 1, embarked from Cherbourg, and being under 18. The other coefficients, fare, Parch, Sibsp, and ticket ID are not significant in this model. However, the models adjusted R squared value is 0.590, which means that it would be hard to accurately predict if a passenger survived just by being given these traits. "
   ]
  },
  {
   "cell_type": "markdown",
   "metadata": {},
   "source": [
    "<h4 id=\"MultiDimPercTraitsTotal\">7.2 Total Number of Traits a Passenger has (Traits based on Total Survived)</h4>"
   ]
  },
  {
   "cell_type": "code",
   "execution_count": 72,
   "metadata": {
    "collapsed": false
   },
   "outputs": [
    {
     "data": {
      "image/png": "[encoded data removed]",
      "text/plain": [
       "<matplotlib.figure.Figure at 0x1e65e153cf8>"
      ]
     },
     "metadata": {},
     "output_type": "display_data"
    },
    {
     "data": {
      "image/png": "[encoded data removed]",
      "text/plain": [
       "<matplotlib.figure.Figure at 0x1e65db0d748>"
      ]
     },
     "metadata": {},
     "output_type": "display_data"
    },
    {
     "data": {
      "text/html": [
       "<div>\n",
       "<style>\n",
       "    .dataframe thead tr:only-child th {\n",
       "        text-align: right;\n",
       "    }\n",
       "\n",
       "    .dataframe thead th {\n",
       "        text-align: left;\n",
       "    }\n",
       "\n",
       "    .dataframe tbody tr th {\n",
       "        vertical-align: top;\n",
       "    }\n",
       "</style>\n",
       "<table border=\"1\" class=\"dataframe\">\n",
       "  <thead>\n",
       "    <tr style=\"text-align: right;\">\n",
       "      <th></th>\n",
       "      <th>Number Survived</th>\n",
       "      <th>Number Lost</th>\n",
       "      <th>Total</th>\n",
       "      <th>Percent Survived</th>\n",
       "      <th>Percent Lost</th>\n",
       "    </tr>\n",
       "    <tr>\n",
       "      <th>howManyTraitsByTotal</th>\n",
       "      <th></th>\n",
       "      <th></th>\n",
       "      <th></th>\n",
       "      <th></th>\n",
       "      <th></th>\n",
       "    </tr>\n",
       "  </thead>\n",
       "  <tbody>\n",
       "    <tr>\n",
       "      <th>0</th>\n",
       "      <td>0</td>\n",
       "      <td>4</td>\n",
       "      <td>4</td>\n",
       "      <td>0</td>\n",
       "      <td>100</td>\n",
       "    </tr>\n",
       "    <tr>\n",
       "      <th>1</th>\n",
       "      <td>21</td>\n",
       "      <td>22</td>\n",
       "      <td>43</td>\n",
       "      <td>49</td>\n",
       "      <td>51</td>\n",
       "    </tr>\n",
       "    <tr>\n",
       "      <th>2</th>\n",
       "      <td>17</td>\n",
       "      <td>37</td>\n",
       "      <td>54</td>\n",
       "      <td>31</td>\n",
       "      <td>69</td>\n",
       "    </tr>\n",
       "    <tr>\n",
       "      <th>3</th>\n",
       "      <td>36</td>\n",
       "      <td>54</td>\n",
       "      <td>90</td>\n",
       "      <td>40</td>\n",
       "      <td>60</td>\n",
       "    </tr>\n",
       "    <tr>\n",
       "      <th>4</th>\n",
       "      <td>67</td>\n",
       "      <td>136</td>\n",
       "      <td>203</td>\n",
       "      <td>33</td>\n",
       "      <td>67</td>\n",
       "    </tr>\n",
       "    <tr>\n",
       "      <th>5</th>\n",
       "      <td>111</td>\n",
       "      <td>246</td>\n",
       "      <td>357</td>\n",
       "      <td>31</td>\n",
       "      <td>69</td>\n",
       "    </tr>\n",
       "    <tr>\n",
       "      <th>6</th>\n",
       "      <td>77</td>\n",
       "      <td>49</td>\n",
       "      <td>126</td>\n",
       "      <td>61</td>\n",
       "      <td>39</td>\n",
       "    </tr>\n",
       "    <tr>\n",
       "      <th>7</th>\n",
       "      <td>13</td>\n",
       "      <td>1</td>\n",
       "      <td>14</td>\n",
       "      <td>93</td>\n",
       "      <td>7</td>\n",
       "    </tr>\n",
       "  </tbody>\n",
       "</table>\n",
       "</div>"
      ],
      "text/plain": [
       "                      Number Survived  Number Lost  Total  Percent Survived  \\\n",
       "howManyTraitsByTotal                                                          \n",
       "0                                   0            4      4                 0   \n",
       "1                                  21           22     43                49   \n",
       "2                                  17           37     54                31   \n",
       "3                                  36           54     90                40   \n",
       "4                                  67          136    203                33   \n",
       "5                                 111          246    357                31   \n",
       "6                                  77           49    126                61   \n",
       "7                                  13            1     14                93   \n",
       "\n",
       "                      Percent Lost  \n",
       "howManyTraitsByTotal                \n",
       "0                              100  \n",
       "1                               51  \n",
       "2                               69  \n",
       "3                               60  \n",
       "4                               67  \n",
       "5                               69  \n",
       "6                               39  \n",
       "7                                7  "
      ]
     },
     "execution_count": 72,
     "metadata": {},
     "output_type": "execute_result"
    }
   ],
   "source": [
    "#create the table\n",
    "tb=createSurvivalTable(hasTrait,'howManyTraitsByTotal')\n",
    "createTotalSurvivalRatebyTraitPlot(tb, \"Totals\")\n",
    "plt.show()\n",
    "createPercSurvivalRatebyTraitPlot(tb, \"Percents\")\n",
    "plt.show()\n",
    "\n",
    "tb"
   ]
  },
  {
   "cell_type": "markdown",
   "metadata": {},
   "source": [
    "Like the traits that were choses based on survival percentages these traits will also be placed in a multi-linear regression model. "
   ]
  },
  {
   "cell_type": "code",
   "execution_count": 73,
   "metadata": {
    "collapsed": false
   },
   "outputs": [
    {
     "name": "stdout",
     "output_type": "stream",
     "text": [
      "                            OLS Regression Results                            \n",
      "==============================================================================\n",
      "Dep. Variable:               Survived   R-squared:                       0.593\n",
      "Model:                            OLS   Adj. R-squared:                  0.589\n",
      "Method:                 Least Squares   F-statistic:                     160.8\n",
      "Date:                Mon, 18 Sep 2017   Prob (F-statistic):          1.26e-166\n",
      "Time:                        22:02:24   Log-Likelihood:                -437.17\n",
      "No. Observations:                 891   AIC:                             890.3\n",
      "Df Residuals:                     883   BIC:                             928.7\n",
      "Df Model:                           8                                         \n",
      "Covariance Type:            nonrobust                                         \n",
      "====================================================================================================\n",
      "                                       coef    std err          t      P>|t|      [0.025      0.975]\n",
      "----------------------------------------------------------------------------------------------------\n",
      "FarePercentilesAt90_100              0.0483      0.059      0.823      0.410      -0.067       0.163\n",
      "sexFemale                            0.5798      0.027     21.185      0.000       0.526       0.633\n",
      "Pclass1                              0.2788      0.039      7.234      0.000       0.203       0.354\n",
      "EmbarkedS                            0.0354      0.026      1.343      0.180      -0.016       0.087\n",
      "Is18orOlder                         -0.0354      0.040     -0.895      0.371      -0.113       0.042\n",
      "NoParch                              0.0733      0.039      1.863      0.063      -0.004       0.150\n",
      "NoSibSp                              0.0688      0.034      2.019      0.044       0.002       0.136\n",
      "One Passenger with the Ticket ID    -0.0160      0.038     -0.421      0.674      -0.091       0.059\n",
      "==============================================================================\n",
      "Omnibus:                       39.206   Durbin-Watson:                   1.939\n",
      "Prob(Omnibus):                  0.000   Jarque-Bera (JB):               43.278\n",
      "Skew:                           0.532   Prob(JB):                     4.00e-10\n",
      "Kurtosis:                       3.183   Cond. No.                         8.69\n",
      "==============================================================================\n",
      "\n",
      "Warnings:\n",
      "[1] Standard Errors assume that the covariance matrix of the errors is correctly specified.\n"
     ]
    }
   ],
   "source": [
    "#get the traits\n",
    "X=hasTrait[[\"FarePercentilesAt90_100\", \"sexFemale\", \"Pclass1\", \"EmbarkedS\",\"Is18orOlder\",\"NoParch\",\"NoSibSp\",\n",
    "                        \"One Passenger with the Ticket ID\"]] \n",
    "\n",
    "Y=hasTrait['Survived'] \n",
    "model = sm.OLS(Y,X)\n",
    "#\n",
    "results = model.fit()\n",
    "print(results.summary())"
   ]
  },
  {
   "cell_type": "markdown",
   "metadata": {},
   "source": [
    "Being female and being in pclass 1 are still significant in this model. However, this model suffers the same fate as the first model in that the adjusted R-squared value is not very high, which means this model will not be particularly accurate in predicting survival rates based on these traits."
   ]
  },
  {
   "cell_type": "markdown",
   "metadata": {},
   "source": [
    "<h4  id=\"MultiDimSectionSummary\">7.3 Section Summary</h4>\n",
    "In summary this section examined how the number of traits that were identified in section 6.13 affected the survival rate of passengers. No passengers had all of the traits in either of the two sets of traits that were identifed. The more traits that someone had when the traits were choses by percent survived the higher the likelyhood of their survival. Both sets of traits were then fit to a multi-linear regression model. The models had an adjusted R squared value of around .59, which indicates that they will not perform too well when used to predict if a passenger survives given a set of traits. It should be noted that in both models being female and being in Pclass 1 indicated increased survival rate at an acceptable significance level. "
   ]
  },
  {
   "cell_type": "markdown",
   "metadata": {},
   "source": [
    "<h4  id=\"Conclusion\">8.0 Conclusion</h4>\n",
    "The original question of this analysis was to examine the dataset that was given and determine what variables helped predict survival rate. In section 6 the individual traits were looked at and in the section summary two sets of traits were created. One was create based on the survival percentages of the individual traits (the highest rates where used). The other was created based off of the total number of survivers (the traits with the most survivor were used). These two sets of traits were then fit to their own multi-variable linear regression model. In both models being female and being in Pclass 1 indicated increased survival rate at an acceptable significance level. The \"female\" trait in both models indicated that females were 57% more likely to survive than a male, on average, all else equal. However, each model had an adjusted r-squared of around .59, which means they would not necessarly be great a predicting if any given passenger survived.<br>\n",
    "<br>\n",
    "While it is not possible to use these models to predict if any given passenger had survived they are able to help indicate traits that might be useful in building future models. Given the output from the above models I would recommend that anyone looking to build additional models should look at the following traits: \n",
    "* Sex - Female (Significant in model 1 and 2)\n",
    "* Pclass - One (Significant in model 1 and 2)\n",
    "* Embarked - Cherbourg (Significant in model 1)\n",
    "* Age - Passengers Under 18 (Significant in model 1)"
   ]
  },
  {
   "cell_type": "markdown",
   "metadata": {},
   "source": [
    "<h4  id=\"References\">9.0 References</h4>\n",
    "Various questions that others posted on forms and documented API"
   ]
  }
 ],
 "metadata": {
  "anaconda-cloud": {},
  "kernelspec": {
   "display_name": "Python [default]",
   "language": "python",
   "name": "python3"
  },
  "language_info": {
   "codemirror_mode": {
    "name": "ipython",
    "version": 3
   },
   "file_extension": ".py",
   "mimetype": "text/x-python",
   "name": "python",
   "nbconvert_exporter": "python",
   "pygments_lexer": "ipython3",
   "version": "3.5.2"
  }
 },
 "nbformat": 4,
 "nbformat_minor": 2
}
